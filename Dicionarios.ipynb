{
 "cells": [
  {
   "cell_type": "markdown",
   "metadata": {},
   "source": [
    "<h1>Dicionários (Dictionary)</h1>\n",
    "\n",
    "É um tipo de coleção desordenada, mas editável e indexável, ou seja os elementos não estão dispostos numa ordem, mas podem ser acedidos através de índices e podem ser editáveis.\n",
    "\n",
    "Os dicionários em Python são escritos através de chavetas(\"{}\"), eles contêm chaves (keys) e valores (values).\n",
    " <mark>dictionary ={key:value}</mark>\n",
    "\n",
    "<h4>Exemplo 1.</h4>"
   ]
  },
  {
   "cell_type": "code",
   "execution_count": 36,
   "metadata": {
    "scrolled": true
   },
   "outputs": [
    {
     "name": "stdout",
     "output_type": "stream",
     "text": [
      "{'film': 'Home', 'year': '2015', 'char1': 'Oh', 'char2': 'Tip'}\n"
     ]
    }
   ],
   "source": [
    "dictionaryM = {\"film\":\"Home\", \"year\":\"2015\",\"char1\":\"Oh\", \"char2\":\"Tip\"}\n",
    "print(dictionaryM)"
   ]
  },
  {
   "cell_type": "markdown",
   "metadata": {},
   "source": [
    "<h3>Formas de acessar os dicionários:</h3>\n",
    "\n",
    "É possível acessar os items de um dicionário, referindo o nome da chave, inserindo-o dentro de parênteses retos, mas, há um método que é o <mark>get()</mark> que permite obter o mesmo resultado. \n",
    "\n",
    "\n",
    "<h4>Exemplo 2.1. -  com a key: </h4>\n"
   ]
  },
  {
   "cell_type": "code",
   "execution_count": 37,
   "metadata": {
    "scrolled": true
   },
   "outputs": [
    {
     "name": "stdout",
     "output_type": "stream",
     "text": [
      "Home\n"
     ]
    }
   ],
   "source": [
    "print(dictionaryM[\"film\"])"
   ]
  },
  {
   "cell_type": "markdown",
   "metadata": {},
   "source": [
    "<h4>Exemplo 2.2. -  com <mark>get()</mark>: </h4>"
   ]
  },
  {
   "cell_type": "code",
   "execution_count": 38,
   "metadata": {},
   "outputs": [
    {
     "name": "stdout",
     "output_type": "stream",
     "text": [
      "Tip\n"
     ]
    }
   ],
   "source": [
    "print(dictionaryM.get(\"char2\"))"
   ]
  },
  {
   "cell_type": "markdown",
   "metadata": {},
   "source": [
    "<h3>Alterar items do dicionário?</h3>\n",
    "\n",
    "Para alterar algum item do dicionário, recorre-se ao uso da key utilizada dentro dos parênteses retos.\n",
    "\n",
    "<h4>Exemplo 3.: </h4>"
   ]
  },
  {
   "cell_type": "code",
   "execution_count": 39,
   "metadata": {},
   "outputs": [
    {
     "name": "stdout",
     "output_type": "stream",
     "text": [
      "{'film': 'Home', 'year': '2015', 'char1': 'Boov', 'char2': 'Tip'}\n"
     ]
    }
   ],
   "source": [
    "dictionaryM[\"char1\"] = \"Boov\"\n",
    "print(dictionaryM)"
   ]
  },
  {
   "cell_type": "markdown",
   "metadata": {},
   "source": [
    "\n",
    "<h3>Adicionar items:</h3>\n",
    "\n",
    " Para adicionar items utilizamos uma nova key dentro dos parânteses retos e igualar ao novo valor.\n",
    " \n",
    "\n",
    "<h4>Exemplo 4.</h4>"
   ]
  },
  {
   "cell_type": "code",
   "execution_count": 40,
   "metadata": {},
   "outputs": [
    {
     "name": "stdout",
     "output_type": "stream",
     "text": [
      "{'film': 'Home', 'year': '2015', 'char1': 'Boov', 'char2': 'Tip', 'main': 'Oh'}\n"
     ]
    }
   ],
   "source": [
    "dictionaryM[\"main\"] = \"Oh\"\n",
    "print(dictionaryM)"
   ]
  },
  {
   "cell_type": "markdown",
   "metadata": {},
   "source": [
    "\n",
    "<h3>Remover items do dicionário:</h3>\n",
    "\n",
    " Para remover items de um dicionário, utilizamos o método <mark>pop(itemKey)</mark>, que remove o item com determinado nome da chave(key). \n",
    " \n",
    " A palavra-chave <mark>del dict[key]</mark> faz o mesmo, mas também pode eliminar o dicionário por completo inserindo <mark>del dict</mark>.\n",
    " \n",
    " O <mark>popitem()</mark> remove o último item inserido no dicionário.\n",
    "\n",
    "O método <mark>clear()</mark> limpa o dicionário.\n",
    "\n",
    "\n",
    "<h4>Exemplo 4.1. - com <mark>pop(itemKey)</mark></h4>"
   ]
  },
  {
   "cell_type": "code",
   "execution_count": 41,
   "metadata": {},
   "outputs": [
    {
     "name": "stdout",
     "output_type": "stream",
     "text": [
      "{'film': 'Home', 'year': '2015', 'char2': 'Tip', 'main': 'Oh'}\n"
     ]
    }
   ],
   "source": [
    "dictionaryM.pop(\"char1\")\n",
    "print(dictionaryM)"
   ]
  },
  {
   "cell_type": "markdown",
   "metadata": {},
   "source": [
    "<h4>Exemplo 4.2. - com <mark>popitem()</mark></h4>"
   ]
  },
  {
   "cell_type": "code",
   "execution_count": 42,
   "metadata": {},
   "outputs": [
    {
     "name": "stdout",
     "output_type": "stream",
     "text": [
      "{'film': 'Home', 'year': '2015', 'char2': 'Tip'}\n"
     ]
    }
   ],
   "source": [
    "dictionaryM.popitem()\n",
    "print(dictionaryM)"
   ]
  },
  {
   "cell_type": "markdown",
   "metadata": {},
   "source": [
    "<h4>Exemplo 4.3. - com <mark>del</mark></h4>"
   ]
  },
  {
   "cell_type": "code",
   "execution_count": 43,
   "metadata": {},
   "outputs": [
    {
     "name": "stdout",
     "output_type": "stream",
     "text": [
      "{'film': 'Home', 'year': '2015', 'char2': 'Tip', 'new': 'casa'}\n",
      "{'film': 'Home', 'year': '2015', 'char2': 'Tip'}\n"
     ]
    }
   ],
   "source": [
    "dictionaryM[\"new\"] = \"casa\"\n",
    "print(dictionaryM)\n",
    "del dictionaryM[\"new\"]\n",
    "print(dictionaryM)"
   ]
  },
  {
   "cell_type": "markdown",
   "metadata": {},
   "source": [
    "<h4>Exemplo 4.4. - com <mark>clear()</mark></h4>"
   ]
  },
  {
   "cell_type": "code",
   "execution_count": 44,
   "metadata": {},
   "outputs": [
    {
     "name": "stdout",
     "output_type": "stream",
     "text": [
      "{'film': 'Home', 'year': '2015', 'char2': 'Tip'}\n",
      "{}\n"
     ]
    }
   ],
   "source": [
    "dict2 = dict(dictionaryM) #para não apagar o dictionaryM criamos \n",
    "                    #um novo com os mesmos items\n",
    "print(dict2)\n",
    "dict2.clear()\n",
    "print(dict2)"
   ]
  },
  {
   "cell_type": "markdown",
   "metadata": {},
   "source": [
    "<h4>Exemplo 4.5. - com <mark>del</mark></h4>"
   ]
  },
  {
   "cell_type": "code",
   "execution_count": 45,
   "metadata": {},
   "outputs": [
    {
     "ename": "NameError",
     "evalue": "name 'dict3' is not defined",
     "output_type": "error",
     "traceback": [
      "\u001b[1;31m---------------------------------------------------------------------------\u001b[0m",
      "\u001b[1;31mNameError\u001b[0m                                 Traceback (most recent call last)",
      "\u001b[1;32m<ipython-input-45-aef880aa8b1e>\u001b[0m in \u001b[0;36m<module>\u001b[1;34m\u001b[0m\n\u001b[0;32m      2\u001b[0m                     \u001b[1;31m#um novo com os mesmos items\u001b[0m\u001b[1;33m\u001b[0m\u001b[1;33m\u001b[0m\u001b[1;33m\u001b[0m\u001b[0m\n\u001b[0;32m      3\u001b[0m \u001b[1;32mdel\u001b[0m \u001b[0mdict3\u001b[0m \u001b[1;31m#apagamos o dicionário\u001b[0m\u001b[1;33m\u001b[0m\u001b[1;33m\u001b[0m\u001b[0m\n\u001b[1;32m----> 4\u001b[1;33m \u001b[0mprint\u001b[0m\u001b[1;33m(\u001b[0m\u001b[0mdict3\u001b[0m\u001b[1;33m)\u001b[0m \u001b[1;31m#fazemos print, mas dá erro, visto que apagámo-lo\u001b[0m\u001b[1;33m\u001b[0m\u001b[1;33m\u001b[0m\u001b[0m\n\u001b[0m",
      "\u001b[1;31mNameError\u001b[0m: name 'dict3' is not defined"
     ]
    }
   ],
   "source": [
    "dict3 = dict(dictionaryM) #para não apagar o dictionaryM criamos \n",
    "                    #um novo com os mesmos items\n",
    "del dict3 #apagamos o dicionário\n",
    "print(dict3) #fazemos print, mas dá erro, visto que apagámo-lo"
   ]
  },
  {
   "cell_type": "markdown",
   "metadata": {},
   "source": [
    "<h3>Copiar um dicionário:</h3>\n",
    "\n",
    "Para copiar um dicionário, utilizamos o método <mark>copy()</mark>, ou, o método <mark>dict()</mark>.\n",
    "\n",
    "<h4>Exemplo 5.:</h4>"
   ]
  },
  {
   "cell_type": "code",
   "execution_count": null,
   "metadata": {
    "scrolled": true
   },
   "outputs": [],
   "source": [
    "dictMN = dictionaryM.copy()\n",
    "dictN = dict(dictionaryM)\n",
    "print(\"Copia 1 de dictionaryM - \",dictMN)\n",
    "print(\"Copia 2 de dictionaryM - \",dictN)"
   ]
  },
  {
   "cell_type": "markdown",
   "metadata": {},
   "source": [
    "<h3>Dicionários dentro de dicionários </h3>\n",
    "\n",
    "Os dicionários podem ter como items outros dicionários.\n",
    "\n",
    "<h4>Exemplo 6.1:</h4>"
   ]
  },
  {
   "cell_type": "code",
   "execution_count": null,
   "metadata": {},
   "outputs": [],
   "source": [
    "#criar um dicionário com 3 dicionários\n",
    "favMovies = {\n",
    "    \"film1\" :{\n",
    "        \"nome\":\"Home\",\n",
    "        \"ano\":\"2015\"\n",
    "             },\n",
    "    \"film2\" :{\n",
    "        \"nome\":\"E.T.\",\n",
    "        \"ano\":\"1982\"\n",
    "             },\n",
    "    \"film3\" :{\n",
    "        \"nome\":\"Sing\",\n",
    "        \"ano\":\"2016\"\n",
    "             }\n",
    "}\n",
    "\n",
    "print(favMovies)"
   ]
  },
  {
   "cell_type": "code",
   "execution_count": null,
   "metadata": {},
   "outputs": [],
   "source": [
    "#Criar dicionários individualmente e introduzi-los num outro\n",
    "film1 ={\"nome\":\"Home\",\"ano\":\"2015\"}\n",
    "film2 ={\"nome\":\"E.T.\",\"ano\":\"1982\"}\n",
    "film3 ={\"nome\":\"Sing\",\"ano\":\"2016\"}\n",
    "\n",
    "\n",
    "favMovies = {\"primeiro\":film1,\"segundo\": film2,\"terceiro\": film3}\n",
    "\n",
    "print(favMovies)"
   ]
  },
  {
   "cell_type": "markdown",
   "metadata": {},
   "source": [
    "<h3>Criar dicionários com Construtor</h3>\n",
    "\n",
    "Para criar um dicionário através do <b>construtor</b> , utilizamos o método <mark>dict()</mark>.\n",
    "\n",
    "<h4>Exemplo 6.:</h4>"
   ]
  },
  {
   "cell_type": "code",
   "execution_count": 46,
   "metadata": {},
   "outputs": [
    {
     "name": "stdout",
     "output_type": "stream",
     "text": [
      "{'nome': 'Marley', 'apelido': 'Lopez', 'age': 20}\n"
     ]
    }
   ],
   "source": [
    "myDict = dict(nome=\"Marley\", apelido=\"Lopez\", age=20)\n",
    "#neste caso as keys não são strings\n",
    "print(myDict)"
   ]
  },
  {
   "cell_type": "markdown",
   "metadata": {},
   "source": [
    "<table style=\"width:100%\">\n",
    "  <caption>Outros Métodos dos Dicionários</caption>\n",
    "  <tr>\n",
    "    <th>Método</th>\n",
    "    <th>Função</th>\n",
    "  </tr>\n",
    "  \n",
    "  <tr>\n",
    "    <td>items()</td>\n",
    "    <td>Retorna uma lista com os tuplos de cada par chave-valor</td>\n",
    "  </tr>\n",
    "  <tr>\n",
    "    <td>keys()</td>\n",
    "    <td>Retorna uma lista com todas as chaves</td>\n",
    "  </tr>\n",
    "  <tr>\n",
    "    <td>values()</td>\n",
    "    <td>Retorna uma lista com todos os valores</td>\n",
    "  </tr>\n",
    "    \n",
    "  <tr>\n",
    "    <td>setdefault(key, value)</td>\n",
    "    <td>Retorna o valor da chave especificada ou caso não exista adiciona o mesmo</td>\n",
    "  </tr>\n",
    "  <tr>\n",
    "    <td>fromkeys(key(s), value)</td>\n",
    "    <td>Retorna um dicionário com as chaves e valores específicadas nos parâmetros</td>\n",
    "  </tr>\n",
    "  <tr>\n",
    "    <td>update(itemDoDicionario)</td>\n",
    "    <td>Atualiza o dicionário com o item especificado, este pode ser um dicionário ou pares de valores-chave</td>\n",
    "  </tr>\n",
    "</table>"
   ]
  },
  {
   "cell_type": "code",
   "execution_count": null,
   "metadata": {},
   "outputs": [],
   "source": []
  },
  {
   "cell_type": "code",
   "execution_count": 1,
   "metadata": {},
   "outputs": [
    {
     "data": {
      "text/html": [
       "\n",
       "<html>\n",
       "<head>\n",
       "<style>\n",
       "\n",
       "\n",
       "/* Fixed sidenav, full height */\n",
       ".sidenav {\n",
       "  height: 100%;\n",
       "  width: 200px;\n",
       "  position: fixed;\n",
       "  z-index: 1;\n",
       "  top: 0;\n",
       "  left: 0;\n",
       "  background-color: #111;\n",
       "  overflow-x: hidden;\n",
       "  padding-top: 200px;\n",
       "}\n",
       "\n",
       "/* Style the sidenav links and the dropdown button */\n",
       ".sidenav a, .dropdown-btn {\n",
       "  padding: 6px 8px 6px 16px;\n",
       "  text-decoration: none;\n",
       "  font-size: 20px;\n",
       "  color: #818181;\n",
       "  display: block;\n",
       "  border: none;\n",
       "  background: none;\n",
       "  width: 100%;\n",
       "  text-align: left;\n",
       "  cursor: pointer;\n",
       "  outline: none;\n",
       "}\n",
       "\n",
       "/* On mouse-over */\n",
       ".sidenav a:hover, .dropdown-btn:hover {\n",
       "  color: #f1f1f1;\n",
       "}\n",
       "\n",
       "/* Add an active class to the active dropdown button */\n",
       "\n",
       "\n",
       ".footer {\n",
       "  padding: 20px;\n",
       "  text-align: center;\n",
       "  background: #ddd;\n",
       "}\n",
       "\n",
       "/* Dropdown container (hidden by default). Optional: add a lighter background color and some left padding to change the design of the dropdown content */\n",
       ".dropdown-container {\n",
       "  display: none;\n",
       "  background-color: #262626;\n",
       "  padding-left: 8px;\n",
       "}\n",
       "\n",
       "/* Optional: Style the caret down icon */\n",
       ".fa-caret-down {\n",
       "  float: right;\n",
       "  padding-right: 8px;\n",
       "}\n",
       "\n",
       "/* Some media queries for responsiveness */\n",
       "@media screen and (max-height: 450px) {\n",
       "  .sidenav {padding-top: 15px;}\n",
       "  .sidenav a {font-size: 18px;}\n",
       "}\n",
       "</style>\n",
       "</head>\n",
       "<body>\n",
       "\n",
       "<div class=\"sidenav\">\n",
       "  <a href=\"#about\" style=\"color:red;\">Página Inicial</a>\n",
       "  <a href=\"Introduction.ipynb\" style=\"color:orange;\">Introdução</a>\n",
       "  <button class=\"dropdown-btn\">\n",
       "  <a style=\"color:#f7e168;\">Módulos</a> \n",
       "    <i class=\"fa fa-caret-down\"></i>\n",
       "  </button>\n",
       "  <div class=\"dropdown-container\">\n",
       "    <a href=\"#\"  style=\"color:#6ff0ac\">1. Sintaxe</a>\n",
       "    <a href=\"#\" style=\"color:#6ff0ac\">2. Variáveis</a><button class=\"dropdown-btn\"> \n",
       "        <i class=\"fa fa-caret-down\"></i>\n",
       "    </button>\n",
       "    <div class=\"dropdown-container\">\n",
       "        <a href=\"#\" style=\"color:#82b9fc\">2.1 Números</a>\n",
       "        <a href=\"#\" style=\"color:#82b9fc\">2.2 Strings</a>\n",
       "        <a href=\"#\" style=\"color:#82b9fc\">2.3 Booleanos</a>\n",
       "    </div>\n",
       "    <a href=\"#\"  style=\"color:#6ff0ac\">3. Coleções</a><button class=\"dropdown-btn\">\n",
       "        <i class=\"fa fa-caret-down\"></i>\n",
       "    </button>\n",
       "    <div class=\"dropdown-container\">\n",
       "        <a href=\"#\" style=\"color:#82b9fc\">3.1. Listas</a>\n",
       "        <a href=\"#\" style=\"color:#82b9fc\">3.2. Tuplos</a>\n",
       "        <a href=\"#\" style=\"color:#82b9fc\">3.3. Conjuntos</a>\n",
       "        <a href=\"#\" style=\"color:#82b9fc\">3.4. Dicionários</a>\n",
       "    </div>\n",
       "    <a href=\"#\"  style=\"color:#6ff0ac\">4. Operadores</a>\n",
       "   <a href=\"#\"  style=\"color:#6ff0ac\"> 5. Controlo de Fluxo</a>\n",
       "   <a href=\"#\"  style=\"color:#6ff0ac\"> 6. Funções</a>\n",
       "   <a href=\"#\"  style=\"color:#6ff0ac\"> 7. Classes/Objetos</a>\n",
       "   <a href=\"#\"  style=\"color:#6ff0ac\"> 8. Heranças</a>\n",
       "  </div>\n",
       "</div>  \n",
       "\n",
       "<script>\n",
       "/* Loop through all dropdown buttons to toggle between hiding and showing its dropdown content - This allows the user to have multiple dropdowns without any conflict */\n",
       "var dropdown = document.getElementsByClassName(\"dropdown-btn\");\n",
       "var i;\n",
       "\n",
       "for (i = 0; i < dropdown.length; i++) {\n",
       "  dropdown[i].addEventListener(\"click\", function() {\n",
       "  this.classList.toggle(\"active\");\n",
       "  var dropdownContent = this.nextElementSibling;\n",
       "  if (dropdownContent.style.display === \"block\") {\n",
       "  dropdownContent.style.display = \"none\";\n",
       "  } else {\n",
       "  dropdownContent.style.display = \"block\";\n",
       "  }\n",
       "  });\n",
       "}\n",
       "\n",
       "code_show=true; \n",
       "function code_toggle() {\n",
       "    if (code_show){\n",
       "        $('div.cell.code_cell.rendered.selected div.input').hide();\n",
       "    } else {\n",
       "        $('div.cell.code_cell.rendered.selected div.input').show();\n",
       "    }\n",
       "    code_show = !code_show\n",
       "} \n",
       "\n",
       "$(document).ready(code_toggle);\n",
       "</script>\n",
       "<div class=\"footer\">\n",
       "  <p>Para ocultar/mostrar o código, clique <a href=\"javascript:code_toggle()\">aqui</a>.</p>\n",
       "</div>\n",
       "</body>\n",
       "\n",
       "</html>"
      ],
      "text/plain": [
       "<IPython.core.display.HTML object>"
      ]
     },
     "execution_count": 1,
     "metadata": {},
     "output_type": "execute_result"
    }
   ],
   "source": [
    "from IPython.core.display import display, HTML\n",
    "\n",
    "\n",
    "HTML('''\n",
    "<html>\n",
    "<head>\n",
    "<style>\n",
    "\n",
    "\n",
    "/* Fixed sidenav, full height */\n",
    ".sidenav {\n",
    "  height: 100%;\n",
    "  width: 200px;\n",
    "  position: fixed;\n",
    "  z-index: 1;\n",
    "  top: 0;\n",
    "  left: 0;\n",
    "  background-color: #111;\n",
    "  overflow-x: hidden;\n",
    "  padding-top: 200px;\n",
    "}\n",
    "\n",
    "/* Style the sidenav links and the dropdown button */\n",
    ".sidenav a, .dropdown-btn {\n",
    "  padding: 6px 8px 6px 16px;\n",
    "  text-decoration: none;\n",
    "  font-size: 20px;\n",
    "  color: #818181;\n",
    "  display: block;\n",
    "  border: none;\n",
    "  background: none;\n",
    "  width: 100%;\n",
    "  text-align: left;\n",
    "  cursor: pointer;\n",
    "  outline: none;\n",
    "}\n",
    "\n",
    "/* On mouse-over */\n",
    ".sidenav a:hover, .dropdown-btn:hover {\n",
    "  color: #f1f1f1;\n",
    "}\n",
    "\n",
    "/* Add an active class to the active dropdown button */\n",
    "\n",
    "\n",
    ".footer {\n",
    "  padding: 20px;\n",
    "  text-align: center;\n",
    "  background: #ddd;\n",
    "}\n",
    "\n",
    "/* Dropdown container (hidden by default). Optional: add a lighter background color and some left padding to change the design of the dropdown content */\n",
    ".dropdown-container {\n",
    "  display: none;\n",
    "  background-color: #262626;\n",
    "  padding-left: 8px;\n",
    "}\n",
    "\n",
    "/* Optional: Style the caret down icon */\n",
    ".fa-caret-down {\n",
    "  float: right;\n",
    "  padding-right: 8px;\n",
    "}\n",
    "\n",
    "/* Some media queries for responsiveness */\n",
    "@media screen and (max-height: 450px) {\n",
    "  .sidenav {padding-top: 15px;}\n",
    "  .sidenav a {font-size: 18px;}\n",
    "}\n",
    "</style>\n",
    "</head>\n",
    "<body>\n",
    "\n",
    "<div class=\"sidenav\">\n",
    "  <a href=\"#about\" style=\"color:red;\">Página Inicial</a>\n",
    "  <a href=\"Introduction.ipynb\" style=\"color:orange;\">Introdução</a>\n",
    "  <button class=\"dropdown-btn\">\n",
    "  <a style=\"color:#f7e168;\">Módulos</a> \n",
    "    <i class=\"fa fa-caret-down\"></i>\n",
    "  </button>\n",
    "  <div class=\"dropdown-container\">\n",
    "    <a href=\"Sintaxe.ipynb\"  style=\"color:#6ff0ac\">1. Sintaxe</a>\n",
    "    <a href=\"#\" style=\"color:#6ff0ac\">2. Variáveis</a><button class=\"dropdown-btn\"> \n",
    "        <i class=\"fa fa-caret-down\"></i>\n",
    "    </button>\n",
    "    <div class=\"dropdown-container\">\n",
    "        <a href=\"Variaveis.ipynb\" style=\"color:#82b9fc\">2.1 Booleanos</a>\n",
    "        <a href=\"Numeros.ipynb\" style=\"color:#82b9fc\">2.2 Números</a>\n",
    "        <a href=\"Strings.ipynb\" style=\"color:#82b9fc\">2.3 Strings</a>\n",
    "    </div>\n",
    "    <a href=\"teste1.ipynb\">Teste 1</a>\n",
    "    <a href=\"#\"  style=\"color:#6ff0ac\">3. Coleções</a><button class=\"dropdown-btn\">\n",
    "        <i class=\"fa fa-caret-down\"></i>\n",
    "    </button>\n",
    "    <div class=\"dropdown-container\">\n",
    "        <a href=\"Colecoes.ipynb\" style=\"color:#82b9fc\">3.1. Listas</a>\n",
    "        <a href=\"Tuplos.ipynb\" style=\"color:#82b9fc\">3.2. Tuplos</a>\n",
    "        <a href=\"Conjuntos.ipynb\" style=\"color:#82b9fc\">3.3. Conjuntos</a>\n",
    "        <a href=\"Dicionarios.ipynb\" style=\"color:#82b9fc\">3.4. Dicionários</a>\n",
    "    </div>\n",
    "    <a href=\"Operadores.ipynb\"  style=\"color:#6ff0ac\">4. Operadores</a>\n",
    "    <a href=\"teste2.ipynb\">Teste 2</a>\n",
    "   <a href=\"Fluxo.ipynb\"  style=\"color:#6ff0ac\"> 5. Controlo de Fluxo</a>\n",
    "   <a href=\"Funcoes.ipynb\"  style=\"color:#6ff0ac\"> 6. Funções</a>\n",
    "    <a href=\"teste3.ipynb\">Teste 3</a>\n",
    "   <a href=\"ClassObjetos.ipynb\"  style=\"color:#6ff0ac\"> 7. Classes/Objetos</a>\n",
    "   <a href=\"Herancas.ipynb\"  style=\"color:#6ff0ac\"> 8. Heranças</a>\n",
    "    <a href=\"teste4.ipynb\">Teste 4</a>\n",
    "\n",
    "  </div>\n",
    "</div>  \n",
    "\n",
    "<script>\n",
    "/* Loop through all dropdown buttons to toggle between hiding and showing its dropdown content - This allows the user to have multiple dropdowns without any conflict */\n",
    "var dropdown = document.getElementsByClassName(\"dropdown-btn\");\n",
    "var i;\n",
    "\n",
    "for (i = 0; i < dropdown.length; i++) {\n",
    "  dropdown[i].addEventListener(\"click\", function() {\n",
    "  this.classList.toggle(\"active\");\n",
    "  var dropdownContent = this.nextElementSibling;\n",
    "  if (dropdownContent.style.display === \"block\") {\n",
    "  dropdownContent.style.display = \"none\";\n",
    "  } else {\n",
    "  dropdownContent.style.display = \"block\";\n",
    "  }\n",
    "  });\n",
    "}\n",
    "\n",
    "code_show=true; \n",
    "function code_toggle() {\n",
    "    if (code_show){\n",
    "        $('div.cell.code_cell.rendered.selected div.input').hide();\n",
    "    } else {\n",
    "        $('div.cell.code_cell.rendered.selected div.input').show();\n",
    "    }\n",
    "    code_show = !code_show\n",
    "} \n",
    "\n",
    "$(document).ready(code_toggle);\n",
    "</script>\n",
    "<div class=\"footer\">\n",
    "  <p>Para ocultar/mostrar o código, clique <a href=\"javascript:code_toggle()\">aqui</a>.</p>\n",
    "</div>\n",
    "</body>\n",
    "\n",
    "</html>''')\n"
   ]
  },
  {
   "cell_type": "code",
   "execution_count": null,
   "metadata": {},
   "outputs": [],
   "source": []
  }
 ],
 "metadata": {
  "kernelspec": {
   "display_name": "Python 3",
   "language": "python",
   "name": "python3"
  },
  "language_info": {
   "codemirror_mode": {
    "name": "ipython",
    "version": 3
   },
   "file_extension": ".py",
   "mimetype": "text/x-python",
   "name": "python",
   "nbconvert_exporter": "python",
   "pygments_lexer": "ipython3",
   "version": "3.7.3"
  }
 },
 "nbformat": 4,
 "nbformat_minor": 2
}
