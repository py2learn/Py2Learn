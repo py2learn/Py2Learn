{
 "cells": [
  {
   "cell_type": "code",
   "execution_count": 8,
   "metadata": {},
   "outputs": [
    {
     "data": {
      "text/html": [
       "<html>\n",
       "\t<head>\n",
       "\t\t<title>Make Quiz Website</title>\n",
       "\t\t<link rel=\"stylesheet\" href=\"quiz.css\">\n",
       "\t\t<link href=\"https://fonts.googleapis.com/css?family=Josefin+Sans\" rel=\"stylesheet\">\n",
       "        <style>\n",
       "        .footer {\n",
       "  padding: 20px;\n",
       "  text-align: center;\n",
       "  background: #ddd;\n",
       "}\n",
       "        </style>\n",
       "\t</head>\n",
       "\t<body>\n",
       "\t\t<div id=\"container\">\n",
       "            <h1>Teste dos módulos 1 e 2</h1>\n",
       "   \t\t\t<br/>\n",
       "  \t\t\t<div id=\"quiz\"></div>\n",
       "    \t\t<div class=\"button\" id=\"next\"><a href=\"#\">Próxima</a></div>\n",
       "    \t\t<div class=\"button\" id=\"prev\"><a href=\"#\">Anterior</a></div>\n",
       "            <div class=\"button\" id=\"home\"><a href=\"Main.ipynb\">Home</a></div>\n",
       "    \t</div>\n",
       "        <script src=\"https://code.jquery.com/jquery-3.4.0.min.js\"></script>\n",
       "\t\t<script src=\"quiz.js\"></script>\n",
       "        \n",
       "        <div class=\"footer\">\n",
       "  <p>O código deste notebook está oculto de forma a facilitar a leitura e interação,\n",
       "para poder aceder ao mesmo clique <a href=\"javascript:code_toggle()\">aqui</a>.</p>\n",
       "</div>\n",
       "\t</body>\n",
       "    <script>\n",
       "code_show=true; \n",
       "function code_toggle() {\n",
       " if (code_show){\n",
       " $('div.input').hide();\n",
       " } else {\n",
       " $('div.input').show();\n",
       " }\n",
       " code_show = !code_show\n",
       "} \n",
       "$( document ).ready(code_toggle);\n",
       "</script>\n",
       "</html>"
      ],
      "text/plain": [
       "<IPython.core.display.HTML object>"
      ]
     },
     "execution_count": 8,
     "metadata": {},
     "output_type": "execute_result"
    }
   ],
   "source": [
    "from IPython.display import HTML, display, clear_output\n",
    "\n",
    "\n",
    "HTML('''<html>\n",
    "\t<head>\n",
    "\t\t<title>Make Quiz Website</title>\n",
    "\t\t<link rel=\"stylesheet\" href=\"quiz.css\">\n",
    "\t\t<link href=\"https://fonts.googleapis.com/css?family=Josefin+Sans\" rel=\"stylesheet\">\n",
    "        <style>\n",
    "        .footer {\n",
    "  padding: 20px;\n",
    "  text-align: center;\n",
    "  background: #ddd;\n",
    "}\n",
    "        </style>\n",
    "\t</head>\n",
    "\t<body>\n",
    "\t\t<div id=\"container\">\n",
    "            <h1>Teste dos módulos 1 e 2</h1>\n",
    "   \t\t\t<br/>\n",
    "  \t\t\t<div id=\"quiz\"></div>\n",
    "    \t\t<div class=\"button\" id=\"next\"><a href=\"#\">Próxima</a></div>\n",
    "    \t\t<div class=\"button\" id=\"prev\"><a href=\"#\">Anterior</a></div>\n",
    "            <div class=\"button\" id=\"home\"><a href=\"Main.ipynb\">Home</a></div>\n",
    "    \t</div>\n",
    "        <script src=\"https://code.jquery.com/jquery-3.4.0.min.js\"></script>\n",
    "\t\t<script src=\"quiz.js\"></script>\n",
    "        \n",
    "        <div class=\"footer\">\n",
    "  <p>O código deste notebook está oculto de forma a facilitar a leitura e interação,\n",
    "para poder aceder ao mesmo clique <a href=\"javascript:code_toggle()\">aqui</a>.</p>\n",
    "</div>\n",
    "\t</body>\n",
    "    <script>\n",
    "code_show=true; \n",
    "function code_toggle() {\n",
    " if (code_show){\n",
    " $('div.input').hide();\n",
    " } else {\n",
    " $('div.input').show();\n",
    " }\n",
    " code_show = !code_show\n",
    "} \n",
    "$( document ).ready(code_toggle);\n",
    "</script>\n",
    "</html>''')"
   ]
  },
  {
   "cell_type": "code",
   "execution_count": null,
   "metadata": {},
   "outputs": [],
   "source": []
  }
 ],
 "metadata": {
  "kernelspec": {
   "display_name": "Python 3",
   "language": "python",
   "name": "python3"
  },
  "language_info": {
   "codemirror_mode": {
    "name": "ipython",
    "version": 3
   },
   "file_extension": ".py",
   "mimetype": "text/x-python",
   "name": "python",
   "nbconvert_exporter": "python",
   "pygments_lexer": "ipython3",
   "version": "3.7.3"
  }
 },
 "nbformat": 4,
 "nbformat_minor": 2
}
