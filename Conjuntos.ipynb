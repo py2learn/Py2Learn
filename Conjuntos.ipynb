{
 "cells": [
  {
   "cell_type": "markdown",
   "metadata": {},
   "source": [
    "<h1>Conjunto (set)</h1>\n",
    "\n",
    "É um tipo de coleção desordenada e não indexável, ou seja os elementos não estão dispostos numa ordem e dessa forma não podem ser acedidos através de índices.\n",
    "\n",
    "Os conjuntos em Python são escritos através de chavetas(\"{}\")\n",
    "\n",
    "<h4>Exemplo 1.</h4>"
   ]
  },
  {
   "cell_type": "code",
   "execution_count": 11,
   "metadata": {
    "scrolled": true
   },
   "outputs": [
    {
     "name": "stdout",
     "output_type": "stream",
     "text": [
      "{'item1', 'item3', 'item2', 'item4'}\n"
     ]
    }
   ],
   "source": [
    "mySet = {\"item1\", \"item2\",\"item3\", \"item4\"}\n",
    "print(mySet)"
   ]
  },
  {
   "cell_type": "markdown",
   "metadata": {},
   "source": [
    "<h3>Formas de acessar os conjuntos:</h3>\n",
    "\n",
    "Como os conjuntos não são indexáveis, estes para serem acedidos, há a necessidade de utilizar o <mark>ciclo for</mark>, com o auxílio palavra-chave <mark>in</mark>, de forma a aceder aos items do conjunto.\n",
    "\n",
    "Para verificar se o valor se encontra ou não no conjunto, utiliza-se a palavra-chave <mark>in</mark> .\n",
    "\n",
    "<h4>Exemplo 2.1. -  com ciclo <mark>for</mark>: </h4>\n"
   ]
  },
  {
   "cell_type": "code",
   "execution_count": 12,
   "metadata": {
    "scrolled": true
   },
   "outputs": [
    {
     "name": "stdout",
     "output_type": "stream",
     "text": [
      "item1\n",
      "item3\n",
      "item2\n",
      "item4\n"
     ]
    }
   ],
   "source": [
    "for x in mySet: #percorre todos os elementos do conjunto e imprime-os\n",
    "    print(x)"
   ]
  },
  {
   "cell_type": "markdown",
   "metadata": {},
   "source": [
    "<h4>Exemplo 2.2. -  com <mark>in</mark>: </h4>"
   ]
  },
  {
   "cell_type": "code",
   "execution_count": 13,
   "metadata": {},
   "outputs": [
    {
     "name": "stdout",
     "output_type": "stream",
     "text": [
      "True\n"
     ]
    }
   ],
   "source": [
    "#imprime True (verdade) ou False (falso) caso o item exista no conjunto\n",
    "print(\"item3\" in mySet)"
   ]
  },
  {
   "cell_type": "markdown",
   "metadata": {},
   "source": [
    "<h3>Alterar items do conjunto?</h3>\n",
    "\n",
    "Num conjunto não é possível alterar os items do mesmo, mas, é possível adicionar novos items através do método <mark>add()</mark>, ou, caso se pretenda adicionar mais do que um item, utiliza-se o método <mark>update()</mark>.\n",
    "\n",
    "<h4>Exemplo 3.1. -  com <mark>add()</mark>: </h4>"
   ]
  },
  {
   "cell_type": "code",
   "execution_count": 14,
   "metadata": {},
   "outputs": [
    {
     "name": "stdout",
     "output_type": "stream",
     "text": [
      "{'item3', 'pen-drive', 'item4', 'item1', 'item2'}\n"
     ]
    }
   ],
   "source": [
    "mySet.add(\"pen-drive\")\n",
    "print(mySet)"
   ]
  },
  {
   "cell_type": "markdown",
   "metadata": {},
   "source": [
    "<h4>Exemplo 3.2. -  com <mark>update()</mark>: </h4>"
   ]
  },
  {
   "cell_type": "code",
   "execution_count": 15,
   "metadata": {},
   "outputs": [
    {
     "name": "stdout",
     "output_type": "stream",
     "text": [
      "{'item3', 'pen-drive', 'disco', 'item4', 'pc', 'item1', 'cd', 'item2'}\n"
     ]
    }
   ],
   "source": [
    "mySet.update([\"cd\", \"disco\", \"pc\"])\n",
    "print(mySet)"
   ]
  },
  {
   "cell_type": "markdown",
   "metadata": {},
   "source": [
    "\n",
    "<h3>Remover items do conjunto:</h3>\n",
    "\n",
    " Para remover items de um conjunto, utilizamos o método <mark>remove()</mark>, ou, o método <mark>discard()</mark>.\n",
    " \n",
    " Quando recorre-se ao uso do <mark>remove()</mark> para remover um item que não existe, o resultado vai dar erro, em alternativa podemos utilizar o método <mark>discard()</mark> que só descarta se existir.\n",
    "\n",
    "<b>Obs:</b> Também pode ser utilizado o método <mark>pop()</mark> para remover items, mas este irá remover o último item do conjunto. O método <mark>clear()</mark> limpa o conjunto todo enquanto que a palavra-chave <mark>del</mark> apaga completamente o conjunto.\n",
    "\n",
    "\n",
    "<h4>Exemplo 4.1. - com <mark>remove()</mark></h4>"
   ]
  },
  {
   "cell_type": "code",
   "execution_count": 16,
   "metadata": {},
   "outputs": [
    {
     "name": "stdout",
     "output_type": "stream",
     "text": [
      "{'item3', 'pen-drive', 'disco', 'item4', 'pc', 'item1', 'cd'}\n"
     ]
    }
   ],
   "source": [
    "mySet.remove(\"item2\")\n",
    "print(mySet)"
   ]
  },
  {
   "cell_type": "markdown",
   "metadata": {},
   "source": [
    "<h4>Exemplo 4.2. - com <mark>discard()</mark></h4>"
   ]
  },
  {
   "cell_type": "code",
   "execution_count": 17,
   "metadata": {},
   "outputs": [
    {
     "name": "stdout",
     "output_type": "stream",
     "text": [
      "{'item3', 'pen-drive', 'disco', 'item4', 'pc', 'item1', 'cd'}\n"
     ]
    }
   ],
   "source": [
    "mySet.discard(\"cable\")\n",
    "print(mySet)"
   ]
  },
  {
   "cell_type": "markdown",
   "metadata": {},
   "source": [
    "<h4>Exemplo 4.3. - com <mark>pop()</mark></h4>"
   ]
  },
  {
   "cell_type": "code",
   "execution_count": 18,
   "metadata": {},
   "outputs": [
    {
     "name": "stdout",
     "output_type": "stream",
     "text": [
      "foi apagado o item  item3\n",
      "{'pen-drive', 'disco', 'item4', 'pc', 'item1', 'cd'}\n"
     ]
    }
   ],
   "source": [
    "x = mySet.pop()\n",
    "print(\"foi apagado o item \", x)\n",
    "print(mySet)"
   ]
  },
  {
   "cell_type": "markdown",
   "metadata": {},
   "source": [
    "<h4>Exemplo 4.4. - com <mark>clear()</mark></h4>"
   ]
  },
  {
   "cell_type": "code",
   "execution_count": 19,
   "metadata": {},
   "outputs": [
    {
     "name": "stdout",
     "output_type": "stream",
     "text": [
      "{'pc', 'pen-drive', 'item1', 'cd', 'item4', 'disco'}\n",
      "set()\n"
     ]
    }
   ],
   "source": [
    "set2 = set(mySet) #para não apagar o set criamos um novo com os mesmos items\n",
    "print(set2)\n",
    "set2.clear() #limpamos o conjunto\n",
    "print(set2) #imprimimos o mesmo e retorna um conjunto vazio"
   ]
  },
  {
   "cell_type": "markdown",
   "metadata": {},
   "source": [
    "<h4>Exemplo 4.5. - com <mark>del</mark></h4>"
   ]
  },
  {
   "cell_type": "code",
   "execution_count": 20,
   "metadata": {},
   "outputs": [
    {
     "ename": "NameError",
     "evalue": "name 'set2' is not defined",
     "output_type": "error",
     "traceback": [
      "\u001b[1;31m---------------------------------------------------------------------------\u001b[0m",
      "\u001b[1;31mNameError\u001b[0m                                 Traceback (most recent call last)",
      "\u001b[1;32m<ipython-input-20-93029ffd09ff>\u001b[0m in \u001b[0;36m<module>\u001b[1;34m\u001b[0m\n\u001b[0;32m      1\u001b[0m \u001b[0mset2\u001b[0m \u001b[1;33m=\u001b[0m \u001b[0mmySet\u001b[0m \u001b[1;31m#para não apagar o set criamos um novo com os mesmos items\u001b[0m\u001b[1;33m\u001b[0m\u001b[1;33m\u001b[0m\u001b[0m\n\u001b[0;32m      2\u001b[0m \u001b[1;32mdel\u001b[0m \u001b[0mset2\u001b[0m \u001b[1;31m#apagamos o conjunto\u001b[0m\u001b[1;33m\u001b[0m\u001b[1;33m\u001b[0m\u001b[0m\n\u001b[1;32m----> 3\u001b[1;33m \u001b[0mprint\u001b[0m\u001b[1;33m(\u001b[0m\u001b[0mset2\u001b[0m\u001b[1;33m)\u001b[0m \u001b[1;31m#fazemos print, mas dá erro, visto que apagámo-lo\u001b[0m\u001b[1;33m\u001b[0m\u001b[1;33m\u001b[0m\u001b[0m\n\u001b[0m",
      "\u001b[1;31mNameError\u001b[0m: name 'set2' is not defined"
     ]
    }
   ],
   "source": [
    "set2 = mySet #para não apagar o set criamos um novo com os mesmos items\n",
    "del set2 #apagamos o conjunto\n",
    "print(set2) #fazemos print, mas dá erro, visto que apagámo-lo"
   ]
  },
  {
   "cell_type": "markdown",
   "metadata": {},
   "source": [
    "<h3>Juntar dois conjuntos:</h3>\n",
    "\n",
    "Para juntar conjuntos, utilizamos o método <mark>union()</mark>, ou, o método <mark>update()</mark>.\n",
    "\n",
    "<h4>Exemplo 5.1 - com <mark>union()</mark>:</h4>"
   ]
  },
  {
   "cell_type": "code",
   "execution_count": 21,
   "metadata": {},
   "outputs": [
    {
     "name": "stdout",
     "output_type": "stream",
     "text": [
      "{'pen-drive', 'disco', 'item4', 't', 's', 'pc', 'item1', 'e', 'cd'}\n"
     ]
    }
   ],
   "source": [
    "set3 = {\"s\", \"e\", \"t\"}\n",
    "set4 = mySet.union(set3)\n",
    "print(set4)"
   ]
  },
  {
   "cell_type": "markdown",
   "metadata": {},
   "source": [
    "<h4>Exemplo 5.1 - com <mark>update()</mark>:</h4>"
   ]
  },
  {
   "cell_type": "code",
   "execution_count": 22,
   "metadata": {},
   "outputs": [
    {
     "name": "stdout",
     "output_type": "stream",
     "text": [
      "{1, 's', 2, 3, 't', 'e'}\n"
     ]
    }
   ],
   "source": [
    "set5 = {1,2,3}\n",
    "set3.update(set5)\n",
    "print(set3)"
   ]
  },
  {
   "cell_type": "markdown",
   "metadata": {},
   "source": [
    "<h3>Criar conjuntos com Construtor</h3>\n",
    "\n",
    "Para criar um conjunto através do <b>construtor</b> , utilizamos o método <mark>set()</mark>.\n",
    "\n",
    "<h4>Exemplo 6.:</h4>"
   ]
  },
  {
   "cell_type": "code",
   "execution_count": 23,
   "metadata": {},
   "outputs": [
    {
     "name": "stdout",
     "output_type": "stream",
     "text": [
      "{'water', 'juice', 'coffer', 'milk'}\n"
     ]
    }
   ],
   "source": [
    "mySet = set((\"milk\",\"coffer\",\"juice\",\"water\"))\n",
    "print(mySet)"
   ]
  },
  {
   "cell_type": "markdown",
   "metadata": {},
   "source": [
    "<table style=\"width:100%\">\n",
    "  <caption>Outros Métodos dos Conjuntos</caption>\n",
    "  <tr>\n",
    "    <th>Método</th>\n",
    "    <th>Função</th>\n",
    "  </tr>\n",
    "  \n",
    "  <tr>\n",
    "    <td>conj1.<mark>difference</mark>(conj2)</td>\n",
    "    <td>Retorna um conjunto com a diferença entre dois conjuntos, ou seja os items do conjunto 1 que estejam no conjunto 2 serão removidos e ficará só os items do conjunto 1.</td>\n",
    "  </tr>\n",
    "  <tr>\n",
    "    <td>conj1.<mark>difference_update</mark>(conj2)</td>\n",
    "    <td>Este método o que faz é atualizar o conjunto 1 de forma a que os items que estejam em ambos conjuntos não entre</td>\n",
    "  </tr>\n",
    "  <tr>\n",
    "    <td>conj1.<mark>intersection</mark>(conj2)</td>\n",
    "    <td>Retorna um conjunto resultado da interceção de dois conjuntos, ou seja, retorna os items que estão repetidos nos dois conjuntos</td>\n",
    "  </tr>\n",
    "    \n",
    "  <tr>\n",
    "    <td>conj1.<mark>intersection_update</mark>(conj2)</td>\n",
    "    <td>Remove os items do conjunto em questão que não estejam em ambos os conjuntos</td>\n",
    "  </tr>\n",
    "  <tr>\n",
    "    <td>conj1.<mark>isdisjoint</mark>(conj2)</td>\n",
    "    <td>Retorna True se no conjunto em questão não existir items iguais e False se existir</td>\n",
    "  </tr>\n",
    "  <tr>\n",
    "    <td>conj1.<mark>issubset</mark>(conj2)</td>\n",
    "    <td>Retorna True se um determinado conjunto tiver este conjunto e False se não existir</td>\n",
    "  </tr>\n",
    "  <tr>\n",
    "    <td>conj1.<mark>issuperset</mark>(conj2)</td>\n",
    "    <td>Retorna True se este conjunto tiver outro conjunto e False se não tiver</td>\n",
    "  </tr>\n",
    "  <tr>\n",
    "    <td>conj1.<mark>symmetric_difference</mark>(conj2)</td>\n",
    "    <td>Retorna um conjunto com simétrico da diferença, ou seja os items de ambos os conjuntos, sem os repetidos</td>\n",
    "  </tr>\n",
    "    \n",
    "  <tr>\n",
    "    <td>conj1.<mark>symmetric_difference_update</mark>(conj2)</td>\n",
    "    <td>Atualiza os items conjunto em questão com o simétrico da diferença, sem os repetidos</td>\n",
    "  </tr>\n",
    "</table>"
   ]
  },
  {
   "cell_type": "code",
   "execution_count": null,
   "metadata": {},
   "outputs": [],
   "source": []
  },
  {
   "cell_type": "code",
   "execution_count": 1,
   "metadata": {},
   "outputs": [
    {
     "data": {
      "text/html": [
       "\n",
       "<html>\n",
       "<head>\n",
       "<style>\n",
       "\n",
       "\n",
       "/* Fixed sidenav, full height */\n",
       ".sidenav {\n",
       "  height: 100%;\n",
       "  width: 200px;\n",
       "  position: fixed;\n",
       "  z-index: 1;\n",
       "  top: 0;\n",
       "  left: 0;\n",
       "  background-color: #111;\n",
       "  overflow-x: hidden;\n",
       "  padding-top: 200px;\n",
       "}\n",
       "\n",
       "/* Style the sidenav links and the dropdown button */\n",
       ".sidenav a, .dropdown-btn {\n",
       "  padding: 6px 8px 6px 16px;\n",
       "  text-decoration: none;\n",
       "  font-size: 20px;\n",
       "  color: #818181;\n",
       "  display: block;\n",
       "  border: none;\n",
       "  background: none;\n",
       "  width: 100%;\n",
       "  text-align: left;\n",
       "  cursor: pointer;\n",
       "  outline: none;\n",
       "}\n",
       "\n",
       "/* On mouse-over */\n",
       ".sidenav a:hover, .dropdown-btn:hover {\n",
       "  color: #f1f1f1;\n",
       "}\n",
       "\n",
       "/* Add an active class to the active dropdown button */\n",
       "\n",
       "\n",
       ".footer {\n",
       "  padding: 20px;\n",
       "  text-align: center;\n",
       "  background: #ddd;\n",
       "}\n",
       "\n",
       "/* Dropdown container (hidden by default). Optional: add a lighter background color and some left padding to change the design of the dropdown content */\n",
       ".dropdown-container {\n",
       "  display: none;\n",
       "  background-color: #262626;\n",
       "  padding-left: 8px;\n",
       "}\n",
       "\n",
       "/* Optional: Style the caret down icon */\n",
       ".fa-caret-down {\n",
       "  float: right;\n",
       "  padding-right: 8px;\n",
       "}\n",
       "\n",
       "/* Some media queries for responsiveness */\n",
       "@media screen and (max-height: 450px) {\n",
       "  .sidenav {padding-top: 15px;}\n",
       "  .sidenav a {font-size: 18px;}\n",
       "}\n",
       "</style>\n",
       "</head>\n",
       "<body>\n",
       "\n",
       "<div class=\"sidenav\">\n",
       "  <a href=\"#about\" style=\"color:red;\">Página Inicial</a>\n",
       "  <a href=\"Introduction.ipynb\" style=\"color:orange;\">Introdução</a>\n",
       "  <button class=\"dropdown-btn\">\n",
       "  <a style=\"color:#f7e168;\">Módulos</a> \n",
       "    <i class=\"fa fa-caret-down\"></i>\n",
       "  </button>\n",
       "  <div class=\"dropdown-container\">\n",
       "    <a href=\"#\"  style=\"color:#6ff0ac\">1. Sintaxe</a>\n",
       "    <a href=\"#\" style=\"color:#6ff0ac\">2. Variáveis</a><button class=\"dropdown-btn\"> \n",
       "        <i class=\"fa fa-caret-down\"></i>\n",
       "    </button>\n",
       "    <div class=\"dropdown-container\">\n",
       "        <a href=\"#\" style=\"color:#82b9fc\">2.1 Números</a>\n",
       "        <a href=\"#\" style=\"color:#82b9fc\">2.2 Strings</a>\n",
       "        <a href=\"#\" style=\"color:#82b9fc\">2.3 Booleanos</a>\n",
       "    </div>\n",
       "    <a href=\"#\"  style=\"color:#6ff0ac\">3. Coleções</a><button class=\"dropdown-btn\">\n",
       "        <i class=\"fa fa-caret-down\"></i>\n",
       "    </button>\n",
       "    <div class=\"dropdown-container\">\n",
       "        <a href=\"#\" style=\"color:#82b9fc\">3.1. Listas</a>\n",
       "        <a href=\"#\" style=\"color:#82b9fc\">3.2. Tuplos</a>\n",
       "        <a href=\"#\" style=\"color:#82b9fc\">3.3. Conjuntos</a>\n",
       "        <a href=\"#\" style=\"color:#82b9fc\">3.4. Dicionários</a>\n",
       "    </div>\n",
       "    <a href=\"#\"  style=\"color:#6ff0ac\">4. Operadores</a>\n",
       "   <a href=\"#\"  style=\"color:#6ff0ac\"> 5. Controlo de Fluxo</a>\n",
       "   <a href=\"#\"  style=\"color:#6ff0ac\"> 6. Funções</a>\n",
       "   <a href=\"#\"  style=\"color:#6ff0ac\"> 7. Classes/Objetos</a>\n",
       "   <a href=\"#\"  style=\"color:#6ff0ac\"> 8. Heranças</a>\n",
       "  </div>\n",
       "</div>  \n",
       "\n",
       "<script>\n",
       "/* Loop through all dropdown buttons to toggle between hiding and showing its dropdown content - This allows the user to have multiple dropdowns without any conflict */\n",
       "var dropdown = document.getElementsByClassName(\"dropdown-btn\");\n",
       "var i;\n",
       "\n",
       "for (i = 0; i < dropdown.length; i++) {\n",
       "  dropdown[i].addEventListener(\"click\", function() {\n",
       "  this.classList.toggle(\"active\");\n",
       "  var dropdownContent = this.nextElementSibling;\n",
       "  if (dropdownContent.style.display === \"block\") {\n",
       "  dropdownContent.style.display = \"none\";\n",
       "  } else {\n",
       "  dropdownContent.style.display = \"block\";\n",
       "  }\n",
       "  });\n",
       "}\n",
       "\n",
       "code_show=true; \n",
       "function code_toggle() {\n",
       "    if (code_show){\n",
       "        $('div.cell.code_cell.rendered.selected div.input').hide();\n",
       "    } else {\n",
       "        $('div.cell.code_cell.rendered.selected div.input').show();\n",
       "    }\n",
       "    code_show = !code_show\n",
       "} \n",
       "\n",
       "$(document).ready(code_toggle);\n",
       "</script>\n",
       "<div class=\"footer\">\n",
       "  <p>Para ocultar/mostrar o código, clique <a href=\"javascript:code_toggle()\">aqui</a>.</p>\n",
       "</div>\n",
       "</body>\n",
       "\n",
       "</html>"
      ],
      "text/plain": [
       "<IPython.core.display.HTML object>"
      ]
     },
     "execution_count": 1,
     "metadata": {},
     "output_type": "execute_result"
    }
   ],
   "source": [
    "from IPython.core.display import display, HTML\n",
    "\n",
    "\n",
    "HTML('''\n",
    "<html>\n",
    "<head>\n",
    "<style>\n",
    "\n",
    "\n",
    "/* Fixed sidenav, full height */\n",
    ".sidenav {\n",
    "  height: 100%;\n",
    "  width: 200px;\n",
    "  position: fixed;\n",
    "  z-index: 1;\n",
    "  top: 0;\n",
    "  left: 0;\n",
    "  background-color: #111;\n",
    "  overflow-x: hidden;\n",
    "  padding-top: 200px;\n",
    "}\n",
    "\n",
    "/* Style the sidenav links and the dropdown button */\n",
    ".sidenav a, .dropdown-btn {\n",
    "  padding: 6px 8px 6px 16px;\n",
    "  text-decoration: none;\n",
    "  font-size: 20px;\n",
    "  color: #818181;\n",
    "  display: block;\n",
    "  border: none;\n",
    "  background: none;\n",
    "  width: 100%;\n",
    "  text-align: left;\n",
    "  cursor: pointer;\n",
    "  outline: none;\n",
    "}\n",
    "\n",
    "/* On mouse-over */\n",
    ".sidenav a:hover, .dropdown-btn:hover {\n",
    "  color: #f1f1f1;\n",
    "}\n",
    "\n",
    "/* Add an active class to the active dropdown button */\n",
    "\n",
    "\n",
    ".footer {\n",
    "  padding: 20px;\n",
    "  text-align: center;\n",
    "  background: #ddd;\n",
    "}\n",
    "\n",
    "/* Dropdown container (hidden by default). Optional: add a lighter background color and some left padding to change the design of the dropdown content */\n",
    ".dropdown-container {\n",
    "  display: none;\n",
    "  background-color: #262626;\n",
    "  padding-left: 8px;\n",
    "}\n",
    "\n",
    "/* Optional: Style the caret down icon */\n",
    ".fa-caret-down {\n",
    "  float: right;\n",
    "  padding-right: 8px;\n",
    "}\n",
    "\n",
    "/* Some media queries for responsiveness */\n",
    "@media screen and (max-height: 450px) {\n",
    "  .sidenav {padding-top: 15px;}\n",
    "  .sidenav a {font-size: 18px;}\n",
    "}\n",
    "</style>\n",
    "</head>\n",
    "<body>\n",
    "\n",
    "<div class=\"sidenav\">\n",
    "  <a href=\"#about\" style=\"color:red;\">Página Inicial</a>\n",
    "  <a href=\"Introduction.ipynb\" style=\"color:orange;\">Introdução</a>\n",
    "  <button class=\"dropdown-btn\">\n",
    "  <a style=\"color:#f7e168;\">Módulos</a> \n",
    "    <i class=\"fa fa-caret-down\"></i>\n",
    "  </button>\n",
    "  <div class=\"dropdown-container\">\n",
    "    <a href=\"Sintaxe.ipynb\"  style=\"color:#6ff0ac\">1. Sintaxe</a>\n",
    "    <a href=\"#\" style=\"color:#6ff0ac\">2. Variáveis</a><button class=\"dropdown-btn\"> \n",
    "        <i class=\"fa fa-caret-down\"></i>\n",
    "    </button>\n",
    "    <div class=\"dropdown-container\">\n",
    "        <a href=\"Variaveis.ipynb\" style=\"color:#82b9fc\">2.1 Booleanos</a>\n",
    "        <a href=\"Numeros.ipynb\" style=\"color:#82b9fc\">2.2 Números</a>\n",
    "        <a href=\"Strings.ipynb\" style=\"color:#82b9fc\">2.3 Strings</a>\n",
    "    </div>\n",
    "    <a href=\"teste1.ipynb\">Teste 1</a>\n",
    "    <a href=\"#\"  style=\"color:#6ff0ac\">3. Coleções</a><button class=\"dropdown-btn\">\n",
    "        <i class=\"fa fa-caret-down\"></i>\n",
    "    </button>\n",
    "    <div class=\"dropdown-container\">\n",
    "        <a href=\"Colecoes.ipynb\" style=\"color:#82b9fc\">3.1. Listas</a>\n",
    "        <a href=\"Tuplos.ipynb\" style=\"color:#82b9fc\">3.2. Tuplos</a>\n",
    "        <a href=\"Conjuntos.ipynb\" style=\"color:#82b9fc\">3.3. Conjuntos</a>\n",
    "        <a href=\"Dicionarios.ipynb\" style=\"color:#82b9fc\">3.4. Dicionários</a>\n",
    "    </div>\n",
    "    <a href=\"Operadores.ipynb\"  style=\"color:#6ff0ac\">4. Operadores</a>\n",
    "    <a href=\"teste2.ipynb\">Teste 2</a>\n",
    "   <a href=\"Fluxo.ipynb\"  style=\"color:#6ff0ac\"> 5. Controlo de Fluxo</a>\n",
    "   <a href=\"Funcoes.ipynb\"  style=\"color:#6ff0ac\"> 6. Funções</a>\n",
    "    <a href=\"teste3.ipynb\">Teste 3</a>\n",
    "   <a href=\"ClassObjetos.ipynb\"  style=\"color:#6ff0ac\"> 7. Classes/Objetos</a>\n",
    "   <a href=\"Herancas.ipynb\"  style=\"color:#6ff0ac\"> 8. Heranças</a>\n",
    "    <a href=\"teste4.ipynb\">Teste 4</a>\n",
    "\n",
    "  </div>\n",
    "</div>  \n",
    "\n",
    "<script>\n",
    "/* Loop through all dropdown buttons to toggle between hiding and showing its dropdown content - This allows the user to have multiple dropdowns without any conflict */\n",
    "var dropdown = document.getElementsByClassName(\"dropdown-btn\");\n",
    "var i;\n",
    "\n",
    "for (i = 0; i < dropdown.length; i++) {\n",
    "  dropdown[i].addEventListener(\"click\", function() {\n",
    "  this.classList.toggle(\"active\");\n",
    "  var dropdownContent = this.nextElementSibling;\n",
    "  if (dropdownContent.style.display === \"block\") {\n",
    "  dropdownContent.style.display = \"none\";\n",
    "  } else {\n",
    "  dropdownContent.style.display = \"block\";\n",
    "  }\n",
    "  });\n",
    "}\n",
    "\n",
    "code_show=true; \n",
    "function code_toggle() {\n",
    "    if (code_show){\n",
    "        $('div.cell.code_cell.rendered.selected div.input').hide();\n",
    "    } else {\n",
    "        $('div.cell.code_cell.rendered.selected div.input').show();\n",
    "    }\n",
    "    code_show = !code_show\n",
    "} \n",
    "\n",
    "$(document).ready(code_toggle);\n",
    "</script>\n",
    "<div class=\"footer\">\n",
    "  <p>Para ocultar/mostrar o código, clique <a href=\"javascript:code_toggle()\">aqui</a>.</p>\n",
    "</div>\n",
    "</body>\n",
    "\n",
    "</html>''')\n"
   ]
  },
  {
   "cell_type": "code",
   "execution_count": null,
   "metadata": {},
   "outputs": [],
   "source": []
  }
 ],
 "metadata": {
  "kernelspec": {
   "display_name": "Python 3",
   "language": "python",
   "name": "python3"
  },
  "language_info": {
   "codemirror_mode": {
    "name": "ipython",
    "version": 3
   },
   "file_extension": ".py",
   "mimetype": "text/x-python",
   "name": "python",
   "nbconvert_exporter": "python",
   "pygments_lexer": "ipython3",
   "version": "3.7.3"
  }
 },
 "nbformat": 4,
 "nbformat_minor": 2
}
