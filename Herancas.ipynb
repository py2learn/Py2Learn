{
 "cells": [
  {
   "cell_type": "markdown",
   "metadata": {},
   "source": [
    "Heranças em Python\n",
    "======================================================="
   ]
  },
  {
   "cell_type": "markdown",
   "metadata": {},
   "source": [
    "As Heranças permitem-nos definir uma classe que herda todos os métodos e propriedades de outra classe.\n",
    "\n",
    "<b>Classe Pai (Parent class)</b> ou classe base, é a classe que é herdada.\n",
    "<b> Classe Filho (Child class)</b> ou classe derivada é a classe que herda de outra classe (classe pai).\n",
    "\n",
    "Neste módulo iremos abordar questões como:\n",
    "\n",
    "<ol>\n",
    "    <li><a href=\"#C1\">Criar Classe Pai</a></li>\n",
    "    <li><a href=\"#C2\">Criar Classe Filho</a></li>\n",
    "    <li><a href=\"#C3\">Adicionar Função <mark>__init__()</mark></a></li>\n",
    "    <li><a href=\"#C4\">Usar Função <mark>super()</mark></a></li>\n",
    "    <li><a href=\"#C5\">Adicionar Propriedades</a></li>\n",
    "    <li><a href=\"#C6\">Adicionar Métodos</a></li>  \n",
    "</ol>\n",
    "\n",
    "\n",
    "<h2 id=\"C1\">1. Criar Classe Pai</h2>\n",
    "\n",
    "Qualquer classe pode ser considerada como classe pai, daí que a sintaxe é a mesma das outras classes.\n",
    "\n",
    "<h4>Exemplo 1.</h4>"
   ]
  },
  {
   "cell_type": "code",
   "execution_count": 19,
   "metadata": {},
   "outputs": [
    {
     "name": "stdout",
     "output_type": "stream",
     "text": [
      "Olá o meu nome é Rita\n"
     ]
    }
   ],
   "source": [
    "class Pessoa:\n",
    "    def __init__(self,nome, idade):\n",
    "        self.nome = nome\n",
    "        self.idade = idade\n",
    "        \n",
    "    def apresentar(self):\n",
    "        print(\"Olá o meu nome é\", self.nome)\n",
    "        \n",
    "        \n",
    "al1 = Pessoa(\"Rita\", 16) \n",
    "al1.apresentar()"
   ]
  },
  {
   "cell_type": "markdown",
   "metadata": {},
   "source": [
    "<h2 id=\"C2\">2. Criar Classe Filho</h2>\n",
    "\n",
    "Para que uma classe seja considerada como classe filho, é necessário no momento da sua criação, passar como parâmetro da classe, a classe pai.\n",
    "\n",
    "\n",
    "<h4>Exemplo 2.</h4>"
   ]
  },
  {
   "cell_type": "code",
   "execution_count": 20,
   "metadata": {},
   "outputs": [
    {
     "name": "stdout",
     "output_type": "stream",
     "text": [
      "Olá o meu nome é Paulo\n"
     ]
    }
   ],
   "source": [
    "class Trabalhador(Pessoa):#a classe Trabalhador herda a classe Pessoa\n",
    "    pass #quando não queremos adicionar mais atributos adicionamos \"pass\"\n",
    "\n",
    "\n",
    "p = Trabalhador(\"Paulo\", 27)\n",
    "p.apresentar()"
   ]
  },
  {
   "cell_type": "markdown",
   "metadata": {},
   "source": [
    "<h2 id=\"C3\">3. Adicionar Função <mark>__init__()</mark></h2>\n",
    "\n",
    "Como nós não queremos que a classe filho não fique sem a função, de forma a que os seus atributos sejam inicializados, então iremos alterar a nossa classe <b>Trabalhador</b> de forma a que tenha essa função. Porém há um problema visto que caso criemos a função <mark>__init__()</mark> na classe filho, ela vai acabar por conflitar com a mesma função da classe pai, daí que na função <mark>__init__()</mark> da classe filho, chamamos a função da classe pai.\n",
    "\n",
    "<h4>Exemplo 3.</h4>"
   ]
  },
  {
   "cell_type": "code",
   "execution_count": 21,
   "metadata": {},
   "outputs": [
    {
     "name": "stdout",
     "output_type": "stream",
     "text": [
      "Olá o meu nome é Paulo\n"
     ]
    }
   ],
   "source": [
    "class Trabalhador(Pessoa):#a classe Trabalhador herda a classe Pessoa\n",
    "    def __init__(self, nome, idade):\n",
    "        Pessoa.__init__(self, nome, idade)\n",
    "\n",
    "p = Trabalhador(\"Paulo\", 27)\n",
    "p.apresentar()"
   ]
  },
  {
   "cell_type": "markdown",
   "metadata": {},
   "source": [
    "<h2 id=\"C4\">Usar Função <mark>super()</mark></h2>\n",
    "\n",
    "A função <mark>super()</mark> em Python serve para permitir que todos os métodos e propriedades da classe-pai sejam herdados pela classe-filho.\n",
    "\n",
    "<h4>Exemplo 4.</h4>"
   ]
  },
  {
   "cell_type": "code",
   "execution_count": 22,
   "metadata": {},
   "outputs": [
    {
     "name": "stdout",
     "output_type": "stream",
     "text": [
      "Olá o meu nome é Paulo\n"
     ]
    }
   ],
   "source": [
    "class Trabalhador(Pessoa):#a classe Trabalhador herda a classe Pessoa\n",
    "    def __init__(self, nome, idade):\n",
    "        super().__init__(nome, idade)#com super() não precisa referir\n",
    "                                     # o nome da classe-pai, nem o self\n",
    "\n",
    "p = Trabalhador(\"Paulo\", 27)\n",
    "p.apresentar()"
   ]
  },
  {
   "cell_type": "markdown",
   "metadata": {},
   "source": [
    "<h2 id=\"C5\">5. Adicionar Propriedades</h2>\n",
    "\n",
    "Para adicionar propriedades/ atributos, à classe-filho fazemos do seguinte modo, de acordo com o exemplo.\n",
    "\n",
    "<h4>Exemplo 5.</h4>"
   ]
  },
  {
   "cell_type": "code",
   "execution_count": 25,
   "metadata": {},
   "outputs": [],
   "source": [
    "class Trabalhador(Pessoa):\n",
    "    def __init__(self, nome, idade, prof): #introduz-se no parâmetro\n",
    "        super().__init__(nome, idade)\n",
    "        self.profissao = prof #nova propriedade\n",
    "\n",
    "p = Trabalhador(\"Paulo\", 27, \"doutor\") #adiciona-se o valor"
   ]
  },
  {
   "cell_type": "markdown",
   "metadata": {},
   "source": [
    "<h2 id=\"C6\">6. Adicionar Métodos</h2>\n",
    "\n",
    "Os métodos/ funções são criadas normalmente, como se poderá ver a seguir.\n",
    "\n",
    "<h4>Exemplo 6.</h4>"
   ]
  },
  {
   "cell_type": "code",
   "execution_count": 24,
   "metadata": {},
   "outputs": [
    {
     "name": "stdout",
     "output_type": "stream",
     "text": [
      "Boa tarde a todos, sou o Paulo tenho 27 anos e sou doutor\n"
     ]
    }
   ],
   "source": [
    "class Trabalhador(Pessoa):\n",
    "    def __init__(self, nome, idade, prof):\n",
    "        super().__init__(nome, idade)\n",
    "        self.profissao = prof\n",
    "        \n",
    "    def discursar(self): #novo método que imprime uma apresentação\n",
    "        print(\"Boa tarde a todos, sou o\", self.nome,\"tenho\",\n",
    "              self.idade, \"anos e sou\", self.profissao)\n",
    "\n",
    "p = Trabalhador(\"Paulo\", 27, \"doutor\")\n",
    "p.discursar()"
   ]
  },
  {
   "cell_type": "markdown",
   "metadata": {},
   "source": [
    "<b>Obs:</b> Caso na classe-filho haja algum método com o mesmo nome que na classe-pai, o método da classe-filho sobrepõe o da classe- pai."
   ]
  },
  {
   "cell_type": "code",
   "execution_count": null,
   "metadata": {},
   "outputs": [],
   "source": []
  },
  {
   "cell_type": "code",
   "execution_count": 1,
   "metadata": {},
   "outputs": [
    {
     "data": {
      "text/html": [
       "\n",
       "<html>\n",
       "<head>\n",
       "<style>\n",
       "\n",
       "\n",
       "/* Fixed sidenav, full height */\n",
       ".sidenav {\n",
       "  height: 100%;\n",
       "  width: 200px;\n",
       "  position: fixed;\n",
       "  z-index: 1;\n",
       "  top: 0;\n",
       "  left: 0;\n",
       "  background-color: #111;\n",
       "  overflow-x: hidden;\n",
       "  padding-top: 200px;\n",
       "}\n",
       "\n",
       "/* Style the sidenav links and the dropdown button */\n",
       ".sidenav a, .dropdown-btn {\n",
       "  padding: 6px 8px 6px 16px;\n",
       "  text-decoration: none;\n",
       "  font-size: 20px;\n",
       "  color: #818181;\n",
       "  display: block;\n",
       "  border: none;\n",
       "  background: none;\n",
       "  width: 100%;\n",
       "  text-align: left;\n",
       "  cursor: pointer;\n",
       "  outline: none;\n",
       "}\n",
       "\n",
       "/* On mouse-over */\n",
       ".sidenav a:hover, .dropdown-btn:hover {\n",
       "  color: #f1f1f1;\n",
       "}\n",
       "\n",
       "/* Add an active class to the active dropdown button */\n",
       "\n",
       "\n",
       ".footer {\n",
       "  padding: 20px;\n",
       "  text-align: center;\n",
       "  background: #ddd;\n",
       "}\n",
       "\n",
       "/* Dropdown container (hidden by default). Optional: add a lighter background color and some left padding to change the design of the dropdown content */\n",
       ".dropdown-container {\n",
       "  display: none;\n",
       "  background-color: #262626;\n",
       "  padding-left: 8px;\n",
       "}\n",
       "\n",
       "/* Optional: Style the caret down icon */\n",
       ".fa-caret-down {\n",
       "  float: right;\n",
       "  padding-right: 8px;\n",
       "}\n",
       "\n",
       "/* Some media queries for responsiveness */\n",
       "@media screen and (max-height: 450px) {\n",
       "  .sidenav {padding-top: 15px;}\n",
       "  .sidenav a {font-size: 18px;}\n",
       "}\n",
       "</style>\n",
       "</head>\n",
       "<body>\n",
       "\n",
       "<div class=\"sidenav\">\n",
       "  <a href=\"#about\" style=\"color:red;\">Página Inicial</a>\n",
       "  <a href=\"Introduction.ipynb\" style=\"color:orange;\">Introdução</a>\n",
       "  <button class=\"dropdown-btn\">\n",
       "  <a style=\"color:#f7e168;\">Módulos</a> \n",
       "    <i class=\"fa fa-caret-down\"></i>\n",
       "  </button>\n",
       "  <div class=\"dropdown-container\">\n",
       "    <a href=\"#\"  style=\"color:#6ff0ac\">1. Sintaxe</a>\n",
       "    <a href=\"#\" style=\"color:#6ff0ac\">2. Variáveis</a><button class=\"dropdown-btn\"> \n",
       "        <i class=\"fa fa-caret-down\"></i>\n",
       "    </button>\n",
       "    <div class=\"dropdown-container\">\n",
       "        <a href=\"#\" style=\"color:#82b9fc\">2.1 Números</a>\n",
       "        <a href=\"#\" style=\"color:#82b9fc\">2.2 Strings</a>\n",
       "        <a href=\"#\" style=\"color:#82b9fc\">2.3 Booleanos</a>\n",
       "    </div>\n",
       "    <a href=\"#\"  style=\"color:#6ff0ac\">3. Coleções</a><button class=\"dropdown-btn\">\n",
       "        <i class=\"fa fa-caret-down\"></i>\n",
       "    </button>\n",
       "    <div class=\"dropdown-container\">\n",
       "        <a href=\"#\" style=\"color:#82b9fc\">3.1. Listas</a>\n",
       "        <a href=\"#\" style=\"color:#82b9fc\">3.2. Tuplos</a>\n",
       "        <a href=\"#\" style=\"color:#82b9fc\">3.3. Conjuntos</a>\n",
       "        <a href=\"#\" style=\"color:#82b9fc\">3.4. Dicionários</a>\n",
       "    </div>\n",
       "    <a href=\"#\"  style=\"color:#6ff0ac\">4. Operadores</a>\n",
       "   <a href=\"#\"  style=\"color:#6ff0ac\"> 5. Controlo de Fluxo</a>\n",
       "   <a href=\"#\"  style=\"color:#6ff0ac\"> 6. Funções</a>\n",
       "   <a href=\"#\"  style=\"color:#6ff0ac\"> 7. Classes/Objetos</a>\n",
       "   <a href=\"#\"  style=\"color:#6ff0ac\"> 8. Heranças</a>\n",
       "  </div>\n",
       "</div>  \n",
       "\n",
       "<script>\n",
       "/* Loop through all dropdown buttons to toggle between hiding and showing its dropdown content - This allows the user to have multiple dropdowns without any conflict */\n",
       "var dropdown = document.getElementsByClassName(\"dropdown-btn\");\n",
       "var i;\n",
       "\n",
       "for (i = 0; i < dropdown.length; i++) {\n",
       "  dropdown[i].addEventListener(\"click\", function() {\n",
       "  this.classList.toggle(\"active\");\n",
       "  var dropdownContent = this.nextElementSibling;\n",
       "  if (dropdownContent.style.display === \"block\") {\n",
       "  dropdownContent.style.display = \"none\";\n",
       "  } else {\n",
       "  dropdownContent.style.display = \"block\";\n",
       "  }\n",
       "  });\n",
       "}\n",
       "\n",
       "code_show=true; \n",
       "function code_toggle() {\n",
       "    if (code_show){\n",
       "        $('div.cell.code_cell.rendered.selected div.input').hide();\n",
       "    } else {\n",
       "        $('div.cell.code_cell.rendered.selected div.input').show();\n",
       "    }\n",
       "    code_show = !code_show\n",
       "} \n",
       "\n",
       "$(document).ready(code_toggle);\n",
       "</script>\n",
       "<div class=\"footer\">\n",
       "  <p>Para ocultar/mostrar o código, clique <a href=\"javascript:code_toggle()\">aqui</a>.</p>\n",
       "</div>\n",
       "</body>\n",
       "\n",
       "</html>"
      ],
      "text/plain": [
       "<IPython.core.display.HTML object>"
      ]
     },
     "execution_count": 1,
     "metadata": {},
     "output_type": "execute_result"
    }
   ],
   "source": [
    "from IPython.core.display import display, HTML\n",
    "\n",
    "\n",
    "HTML('''\n",
    "<html>\n",
    "<head>\n",
    "<style>\n",
    "\n",
    "\n",
    "/* Fixed sidenav, full height */\n",
    ".sidenav {\n",
    "  height: 100%;\n",
    "  width: 200px;\n",
    "  position: fixed;\n",
    "  z-index: 1;\n",
    "  top: 0;\n",
    "  left: 0;\n",
    "  background-color: #111;\n",
    "  overflow-x: hidden;\n",
    "  padding-top: 200px;\n",
    "}\n",
    "\n",
    "/* Style the sidenav links and the dropdown button */\n",
    ".sidenav a, .dropdown-btn {\n",
    "  padding: 6px 8px 6px 16px;\n",
    "  text-decoration: none;\n",
    "  font-size: 20px;\n",
    "  color: #818181;\n",
    "  display: block;\n",
    "  border: none;\n",
    "  background: none;\n",
    "  width: 100%;\n",
    "  text-align: left;\n",
    "  cursor: pointer;\n",
    "  outline: none;\n",
    "}\n",
    "\n",
    "/* On mouse-over */\n",
    ".sidenav a:hover, .dropdown-btn:hover {\n",
    "  color: #f1f1f1;\n",
    "}\n",
    "\n",
    "/* Add an active class to the active dropdown button */\n",
    "\n",
    "\n",
    ".footer {\n",
    "  padding: 20px;\n",
    "  text-align: center;\n",
    "  background: #ddd;\n",
    "}\n",
    "\n",
    "/* Dropdown container (hidden by default). Optional: add a lighter background color and some left padding to change the design of the dropdown content */\n",
    ".dropdown-container {\n",
    "  display: none;\n",
    "  background-color: #262626;\n",
    "  padding-left: 8px;\n",
    "}\n",
    "\n",
    "/* Optional: Style the caret down icon */\n",
    ".fa-caret-down {\n",
    "  float: right;\n",
    "  padding-right: 8px;\n",
    "}\n",
    "\n",
    "/* Some media queries for responsiveness */\n",
    "@media screen and (max-height: 450px) {\n",
    "  .sidenav {padding-top: 15px;}\n",
    "  .sidenav a {font-size: 18px;}\n",
    "}\n",
    "</style>\n",
    "</head>\n",
    "<body>\n",
    "\n",
    "<div class=\"sidenav\">\n",
    "  <a href=\"#about\" style=\"color:red;\">Página Inicial</a>\n",
    "  <a href=\"Introduction.ipynb\" style=\"color:orange;\">Introdução</a>\n",
    "  <button class=\"dropdown-btn\">\n",
    "  <a style=\"color:#f7e168;\">Módulos</a> \n",
    "    <i class=\"fa fa-caret-down\"></i>\n",
    "  </button>\n",
    "  <div class=\"dropdown-container\">\n",
    "    <a href=\"Sintaxe.ipynb\"  style=\"color:#6ff0ac\">1. Sintaxe</a>\n",
    "    <a href=\"#\" style=\"color:#6ff0ac\">2. Variáveis</a><button class=\"dropdown-btn\"> \n",
    "        <i class=\"fa fa-caret-down\"></i>\n",
    "    </button>\n",
    "    <div class=\"dropdown-container\">\n",
    "        <a href=\"Variaveis.ipynb\" style=\"color:#82b9fc\">2.1 Booleanos</a>\n",
    "        <a href=\"Numeros.ipynb\" style=\"color:#82b9fc\">2.2 Números</a>\n",
    "        <a href=\"Strings.ipynb\" style=\"color:#82b9fc\">2.3 Strings</a>\n",
    "    </div>\n",
    "    <a href=\"teste1.ipynb\">Teste 1</a>\n",
    "    <a href=\"#\"  style=\"color:#6ff0ac\">3. Coleções</a><button class=\"dropdown-btn\">\n",
    "        <i class=\"fa fa-caret-down\"></i>\n",
    "    </button>\n",
    "    <div class=\"dropdown-container\">\n",
    "        <a href=\"Colecoes.ipynb\" style=\"color:#82b9fc\">3.1. Listas</a>\n",
    "        <a href=\"Tuplos.ipynb\" style=\"color:#82b9fc\">3.2. Tuplos</a>\n",
    "        <a href=\"Conjuntos.ipynb\" style=\"color:#82b9fc\">3.3. Conjuntos</a>\n",
    "        <a href=\"Dicionarios.ipynb\" style=\"color:#82b9fc\">3.4. Dicionários</a>\n",
    "    </div>\n",
    "    <a href=\"Operadores.ipynb\"  style=\"color:#6ff0ac\">4. Operadores</a>\n",
    "    <a href=\"teste2.ipynb\">Teste 2</a>\n",
    "   <a href=\"Fluxo.ipynb\"  style=\"color:#6ff0ac\"> 5. Controlo de Fluxo</a>\n",
    "   <a href=\"Funcoes.ipynb\"  style=\"color:#6ff0ac\"> 6. Funções</a>\n",
    "    <a href=\"teste3.ipynb\">Teste 3</a>\n",
    "   <a href=\"ClassObjetos.ipynb\"  style=\"color:#6ff0ac\"> 7. Classes/Objetos</a>\n",
    "   <a href=\"Herancas.ipynb\"  style=\"color:#6ff0ac\"> 8. Heranças</a>\n",
    "    <a href=\"teste4.ipynb\">Teste 4</a>\n",
    "\n",
    "  </div>\n",
    "</div>  \n",
    "\n",
    "<script>\n",
    "/* Loop through all dropdown buttons to toggle between hiding and showing its dropdown content - This allows the user to have multiple dropdowns without any conflict */\n",
    "var dropdown = document.getElementsByClassName(\"dropdown-btn\");\n",
    "var i;\n",
    "\n",
    "for (i = 0; i < dropdown.length; i++) {\n",
    "  dropdown[i].addEventListener(\"click\", function() {\n",
    "  this.classList.toggle(\"active\");\n",
    "  var dropdownContent = this.nextElementSibling;\n",
    "  if (dropdownContent.style.display === \"block\") {\n",
    "  dropdownContent.style.display = \"none\";\n",
    "  } else {\n",
    "  dropdownContent.style.display = \"block\";\n",
    "  }\n",
    "  });\n",
    "}\n",
    "\n",
    "code_show=true; \n",
    "function code_toggle() {\n",
    "    if (code_show){\n",
    "        $('div.cell.code_cell.rendered.selected div.input').hide();\n",
    "    } else {\n",
    "        $('div.cell.code_cell.rendered.selected div.input').show();\n",
    "    }\n",
    "    code_show = !code_show\n",
    "} \n",
    "\n",
    "$(document).ready(code_toggle);\n",
    "</script>\n",
    "<div class=\"footer\">\n",
    "  <p>Para ocultar/mostrar o código, clique <a href=\"javascript:code_toggle()\">aqui</a>.</p>\n",
    "</div>\n",
    "</body>\n",
    "\n",
    "</html>''')\n"
   ]
  },
  {
   "cell_type": "code",
   "execution_count": null,
   "metadata": {},
   "outputs": [],
   "source": []
  }
 ],
 "metadata": {
  "kernelspec": {
   "display_name": "Python 3",
   "language": "python",
   "name": "python3"
  },
  "language_info": {
   "codemirror_mode": {
    "name": "ipython",
    "version": 3
   },
   "file_extension": ".py",
   "mimetype": "text/x-python",
   "name": "python",
   "nbconvert_exporter": "python",
   "pygments_lexer": "ipython3",
   "version": "3.7.3"
  }
 },
 "nbformat": 4,
 "nbformat_minor": 2
}
