{
 "cells": [
  {
   "cell_type": "markdown",
   "metadata": {},
   "source": [
    "Classes e Objectos em Python\n",
    "======================================================="
   ]
  },
  {
   "cell_type": "markdown",
   "metadata": {},
   "source": [
    "Python é uma linguagem de programação orientada a objetos e nela quase tudo é considerado como um objeto, com as suas propriedades e métodos.\n",
    "\n",
    "Uma classe é como um construtor de objetos ou um plano para construi-los.\n",
    "\n",
    "\n",
    "Neste módulo iremos abordar questões como:\n",
    "\n",
    "<ol>\n",
    "    <li><a href=\"#C1\">Criar Classes</a></li>\n",
    "    <li><a href=\"#C2\">Criar Objetos</a></li>\n",
    "    <li><a href=\"#C3\">Função __init__()</a></li>\n",
    "    <li><a href=\"#C4\">Métodos dos Objetos</a></li>\n",
    "    <li><a href=\"#C5\">Parâmetro self</a></li>\n",
    "    <li><a href=\"#C6\">Modificar Propriedades de um Objeto</a></li>\n",
    "    <li><a href=\"#C7\">Apagar Propriedades de um Objeto</a></li>\n",
    "    <li><a href=\"#C8\">Apagar Objetos</a></li>    \n",
    "</ol>\n",
    "\n",
    "<h2 id=\"C1\">1. Criar Classes</h2>\n",
    "\n",
    "Para criar uma classe, precisamos utilizar a palavra-chave <mark>class</mark>.\n",
    "\n",
    "<h4>Exemplo 1.</h4>"
   ]
  },
  {
   "cell_type": "code",
   "execution_count": 11,
   "metadata": {},
   "outputs": [],
   "source": [
    "class MClass:\n",
    "    s = \"cv\" #inicializar a variável s da classe"
   ]
  },
  {
   "cell_type": "markdown",
   "metadata": {},
   "source": [
    "<h2 id=\"C1\">2. Criar Objetos</h2>\n",
    "\n",
    "Para criar objeto da classe MClass, precisamos chamá-lo e igualá-lo a uma variável.\n",
    "\n",
    "<h4>Exemplo 2.</h4>"
   ]
  },
  {
   "cell_type": "code",
   "execution_count": 12,
   "metadata": {},
   "outputs": [
    {
     "name": "stdout",
     "output_type": "stream",
     "text": [
      "cv\n"
     ]
    }
   ],
   "source": [
    "sigla = MClass() #chamar a classe\n",
    "print(sigla.s)"
   ]
  },
  {
   "cell_type": "markdown",
   "metadata": {},
   "source": [
    "<h2 id=\"C1\">3. Função __init__()</h2>\n",
    "\n",
    "A classe criada anteriormente foi criada da forma mais simplificada, visto que todas as classes devem ter uma função de construção chamada de <mark>__init__()</mark>. Esta função é executada sempre que a classe está a ser inicilizada de forma a atribuir os valores às propriedades do objeto ou outras operações que são necessárias.\n",
    "\n",
    "<b>Obs:</b> A função <mark>__init__()</mark> é chamada automáticamente sempre que a classe está a aser utilizada para criar um objeto.\n",
    "\n",
    "<h4>Exemplo 3.</h4>"
   ]
  },
  {
   "cell_type": "code",
   "execution_count": 13,
   "metadata": {},
   "outputs": [
    {
     "name": "stdout",
     "output_type": "stream",
     "text": [
      "Rita 10º C\n"
     ]
    }
   ],
   "source": [
    "class Aluno:\n",
    "    def __init__(self,nome, turma, ano):\n",
    "        self.nome = nome #self é utilizado como referência para a \n",
    "#instância da classe e é utilizado para acessar às variáveis da classe\n",
    "        self.turma = turma\n",
    "        self.ano = ano\n",
    "        \n",
    "al1 = Aluno(\"Rita\", \"C\", \"10º\") #criar o objeto al1 (aluno1)\n",
    "                                #com os seus atributos\n",
    "print(al1.nome, al1.ano, al1.turma) #impimir os atributos"
   ]
  },
  {
   "cell_type": "markdown",
   "metadata": {},
   "source": [
    "<h2 id=\"C1\">4. Métodos dos Objetos</h2>\n",
    "\n",
    "Os objetos também podem conter métodos e estes são funções que pertencem ao objeto.\n",
    "\n",
    "<h4>Exemplo 4.</h4>"
   ]
  },
  {
   "cell_type": "code",
   "execution_count": 14,
   "metadata": {},
   "outputs": [
    {
     "name": "stdout",
     "output_type": "stream",
     "text": [
      "Olá o meu nome é Rita\n"
     ]
    }
   ],
   "source": [
    "class Aluno:\n",
    "    def __init__(self,nome, turma, ano):\n",
    "        self.nome = nome\n",
    "        self.turma = turma\n",
    "        self.ano = ano\n",
    "        \n",
    "    def apresentar(self):\n",
    "        print(\"Olá o meu nome é\", self.nome)\n",
    "al1 = Aluno(\"Rita\", \"C\", \"10º\") \n",
    "al1.apresentar()"
   ]
  },
  {
   "cell_type": "markdown",
   "metadata": {},
   "source": [
    "<h2 id=\"C1\">5. Parâmetro self</h2>\n",
    "\n",
    "O parâmetro <mark>self</mark> como já foi dito anteriormente serve para referenciar a instância da classe e acessar às suas variáveis.\n",
    "Não é realmente necessário ter o nome <b>self</b>, só precisa ser o primeiro de qualquer função da classe.\n",
    "\n",
    "<h4>Exemplo 5.</h4>"
   ]
  },
  {
   "cell_type": "code",
   "execution_count": 15,
   "metadata": {},
   "outputs": [
    {
     "name": "stdout",
     "output_type": "stream",
     "text": [
      "Olá o meu nome é Rita\n"
     ]
    }
   ],
   "source": [
    "class Aluno:\n",
    "    def __init__(inst,nome, turma, ano):#self ficou como \"inst\"\n",
    "        inst.nome = nome\n",
    "        inst.turma = turma\n",
    "        inst.ano = ano\n",
    "        \n",
    "    def apresentar(inst):\n",
    "        print(\"Olá o meu nome é\", inst.nome)\n",
    "al1 = Aluno(\"Rita\", \"C\", \"10º\") \n",
    "al1.apresentar()"
   ]
  },
  {
   "cell_type": "markdown",
   "metadata": {},
   "source": [
    "<h2 id=\"C1\">6. Modificar Propriedades de um Objeto</h2>\n",
    "\n",
    "As propriedades de um objeto podem ser alteradas facilmente.\n",
    "\n",
    "<h4>Exemplo 6.</h4>"
   ]
  },
  {
   "cell_type": "code",
   "execution_count": 16,
   "metadata": {},
   "outputs": [],
   "source": [
    "al1.turma = \"A\""
   ]
  },
  {
   "cell_type": "markdown",
   "metadata": {},
   "source": [
    "<h2 id=\"C1\">7. Apagar Propriedades de um Objeto</h2>\n",
    "\n",
    "Para apagar uma propriedade de um objeto, utilizamos a palavra-chave <mark>del</mark>\n",
    "\n",
    "<h4>Exemplo 7.</h4>"
   ]
  },
  {
   "cell_type": "code",
   "execution_count": 17,
   "metadata": {},
   "outputs": [],
   "source": [
    "del al1.turma"
   ]
  },
  {
   "cell_type": "markdown",
   "metadata": {},
   "source": [
    "<h2 id=\"C1\">8. Apagar Objetos</h2>\n",
    "\n",
    "Os objetos também são deletáveis, através da palavra-chave <mark>del</mark>.\n",
    "\n",
    "<h4>Exemplo 8.</h4>"
   ]
  },
  {
   "cell_type": "code",
   "execution_count": 18,
   "metadata": {},
   "outputs": [],
   "source": [
    "del al1"
   ]
  },
  {
   "cell_type": "code",
   "execution_count": null,
   "metadata": {},
   "outputs": [],
   "source": []
  },
  {
   "cell_type": "code",
   "execution_count": 25,
   "metadata": {},
   "outputs": [
    {
     "data": {
      "text/html": [
       "\n",
       "<html>\n",
       "<head>\n",
       "<style>\n",
       "\n",
       "\n",
       "/* Fixed sidenav, full height */\n",
       ".sidenav {\n",
       "  height: 100%;\n",
       "  width: 200px;\n",
       "  position: fixed;\n",
       "  z-index: 1;\n",
       "  top: 0;\n",
       "  left: 0;\n",
       "  background-color: #111;\n",
       "  overflow-x: hidden;\n",
       "  padding-top: 200px;\n",
       "}\n",
       "\n",
       "/* Style the sidenav links and the dropdown button */\n",
       ".sidenav a, .dropdown-btn {\n",
       "  padding: 6px 8px 6px 16px;\n",
       "  text-decoration: none;\n",
       "  font-size: 20px;\n",
       "  color: #818181;\n",
       "  display: block;\n",
       "  border: none;\n",
       "  background: none;\n",
       "  width: 100%;\n",
       "  text-align: left;\n",
       "  cursor: pointer;\n",
       "  outline: none;\n",
       "}\n",
       "\n",
       "/* On mouse-over */\n",
       ".sidenav a:hover, .dropdown-btn:hover {\n",
       "  color: #f1f1f1;\n",
       "}\n",
       "\n",
       "/* Add an active class to the active dropdown button */\n",
       "\n",
       "\n",
       ".footer {\n",
       "  padding: 20px;\n",
       "  text-align: center;\n",
       "  background: #ddd;\n",
       "}\n",
       "\n",
       "/* Dropdown container (hidden by default). Optional: add a lighter background color and some left padding to change the design of the dropdown content */\n",
       ".dropdown-container {\n",
       "  display: none;\n",
       "  background-color: #262626;\n",
       "  padding-left: 8px;\n",
       "}\n",
       "\n",
       "/* Optional: Style the caret down icon */\n",
       ".fa-caret-down {\n",
       "  float: right;\n",
       "  padding-right: 8px;\n",
       "}\n",
       "\n",
       "/* Some media queries for responsiveness */\n",
       "@media screen and (max-height: 450px) {\n",
       "  .sidenav {padding-top: 15px;}\n",
       "  .sidenav a {font-size: 18px;}\n",
       "}\n",
       "</style>\n",
       "</head>\n",
       "<body>\n",
       "\n",
       "<div class=\"sidenav\">\n",
       "  <a href=\"#about\" style=\"color:red;\">Página Inicial</a>\n",
       "  <a href=\"Introduction.ipynb\" style=\"color:orange;\">Introdução</a>\n",
       "  <button class=\"dropdown-btn\">\n",
       "  <a style=\"color:#f7e168;\">Módulos</a> \n",
       "    <i class=\"fa fa-caret-down\"></i>\n",
       "  </button>\n",
       "  <div class=\"dropdown-container\">\n",
       "    <a href=\"#\"  style=\"color:#6ff0ac\">1. Sintaxe</a>\n",
       "    <a href=\"#\" style=\"color:#6ff0ac\">2. Variáveis</a><button class=\"dropdown-btn\"> \n",
       "        <i class=\"fa fa-caret-down\"></i>\n",
       "    </button>\n",
       "    <div class=\"dropdown-container\">\n",
       "        <a href=\"#\" style=\"color:#82b9fc\">2.1 Números</a>\n",
       "        <a href=\"#\" style=\"color:#82b9fc\">2.2 Strings</a>\n",
       "        <a href=\"#\" style=\"color:#82b9fc\">2.3 Booleanos</a>\n",
       "    </div>\n",
       "    <a href=\"#\"  style=\"color:#6ff0ac\">3. Coleções</a><button class=\"dropdown-btn\">\n",
       "        <i class=\"fa fa-caret-down\"></i>\n",
       "    </button>\n",
       "    <div class=\"dropdown-container\">\n",
       "        <a href=\"#\" style=\"color:#82b9fc\">3.1. Listas</a>\n",
       "        <a href=\"#\" style=\"color:#82b9fc\">3.2. Tuplos</a>\n",
       "        <a href=\"#\" style=\"color:#82b9fc\">3.3. Conjuntos</a>\n",
       "        <a href=\"#\" style=\"color:#82b9fc\">3.4. Dicionários</a>\n",
       "    </div>\n",
       "    <a href=\"#\"  style=\"color:#6ff0ac\">4. Operadores</a>\n",
       "   <a href=\"#\"  style=\"color:#6ff0ac\"> 5. Controlo de Fluxo</a>\n",
       "   <a href=\"#\"  style=\"color:#6ff0ac\"> 6. Funções</a>\n",
       "   <a href=\"#\"  style=\"color:#6ff0ac\"> 7. Classes/Objetos</a>\n",
       "   <a href=\"#\"  style=\"color:#6ff0ac\"> 8. Heranças</a>\n",
       "  </div>\n",
       "</div>  \n",
       "\n",
       "<script>\n",
       "/* Loop through all dropdown buttons to toggle between hiding and showing its dropdown content - This allows the user to have multiple dropdowns without any conflict */\n",
       "var dropdown = document.getElementsByClassName(\"dropdown-btn\");\n",
       "var i;\n",
       "\n",
       "for (i = 0; i < dropdown.length; i++) {\n",
       "  dropdown[i].addEventListener(\"click\", function() {\n",
       "  this.classList.toggle(\"active\");\n",
       "  var dropdownContent = this.nextElementSibling;\n",
       "  if (dropdownContent.style.display === \"block\") {\n",
       "  dropdownContent.style.display = \"none\";\n",
       "  } else {\n",
       "  dropdownContent.style.display = \"block\";\n",
       "  }\n",
       "  });\n",
       "}\n",
       "\n",
       "code_show=true; \n",
       "function code_toggle() {\n",
       "    if (code_show){\n",
       "        $('div.cell.code_cell.rendered.selected div.input').hide();\n",
       "    } else {\n",
       "        $('div.cell.code_cell.rendered.selected div.input').show();\n",
       "    }\n",
       "    code_show = !code_show\n",
       "} \n",
       "\n",
       "$(document).ready(code_toggle);\n",
       "</script>\n",
       "<div class=\"footer\">\n",
       "  <p>Para ocultar/mostrar o código, clique <a href=\"javascript:code_toggle()\">aqui</a>.</p>\n",
       "</div>\n",
       "</body>\n",
       "\n",
       "</html>"
      ],
      "text/plain": [
       "<IPython.core.display.HTML object>"
      ]
     },
     "execution_count": 25,
     "metadata": {},
     "output_type": "execute_result"
    }
   ],
   "source": [
    "from IPython.core.display import display, HTML\n",
    "\n",
    "\n",
    "HTML('''\n",
    "<html>\n",
    "<head>\n",
    "<style>\n",
    "\n",
    "\n",
    "/* Fixed sidenav, full height */\n",
    ".sidenav {\n",
    "  height: 100%;\n",
    "  width: 200px;\n",
    "  position: fixed;\n",
    "  z-index: 1;\n",
    "  top: 0;\n",
    "  left: 0;\n",
    "  background-color: #111;\n",
    "  overflow-x: hidden;\n",
    "  padding-top: 200px;\n",
    "}\n",
    "\n",
    "/* Style the sidenav links and the dropdown button */\n",
    ".sidenav a, .dropdown-btn {\n",
    "  padding: 6px 8px 6px 16px;\n",
    "  text-decoration: none;\n",
    "  font-size: 20px;\n",
    "  color: #818181;\n",
    "  display: block;\n",
    "  border: none;\n",
    "  background: none;\n",
    "  width: 100%;\n",
    "  text-align: left;\n",
    "  cursor: pointer;\n",
    "  outline: none;\n",
    "}\n",
    "\n",
    "/* On mouse-over */\n",
    ".sidenav a:hover, .dropdown-btn:hover {\n",
    "  color: #f1f1f1;\n",
    "}\n",
    "\n",
    "/* Add an active class to the active dropdown button */\n",
    "\n",
    "\n",
    ".footer {\n",
    "  padding: 20px;\n",
    "  text-align: center;\n",
    "  background: #ddd;\n",
    "}\n",
    "\n",
    "/* Dropdown container (hidden by default). Optional: add a lighter background color and some left padding to change the design of the dropdown content */\n",
    ".dropdown-container {\n",
    "  display: none;\n",
    "  background-color: #262626;\n",
    "  padding-left: 8px;\n",
    "}\n",
    "\n",
    "/* Optional: Style the caret down icon */\n",
    ".fa-caret-down {\n",
    "  float: right;\n",
    "  padding-right: 8px;\n",
    "}\n",
    "\n",
    "/* Some media queries for responsiveness */\n",
    "@media screen and (max-height: 450px) {\n",
    "  .sidenav {padding-top: 15px;}\n",
    "  .sidenav a {font-size: 18px;}\n",
    "}\n",
    "</style>\n",
    "</head>\n",
    "<body>\n",
    "\n",
    "<div class=\"sidenav\">\n",
    "  <a href=\"#about\" style=\"color:red;\">Página Inicial</a>\n",
    "  <a href=\"Introduction.ipynb\" style=\"color:orange;\">Introdução</a>\n",
    "  <button class=\"dropdown-btn\">\n",
    "  <a style=\"color:#f7e168;\">Módulos</a> \n",
    "    <i class=\"fa fa-caret-down\"></i>\n",
    "  </button>\n",
    "  <div class=\"dropdown-container\">\n",
    "    <a href=\"Sintaxe.ipynb\"  style=\"color:#6ff0ac\">1. Sintaxe</a>\n",
    "    <a href=\"#\" style=\"color:#6ff0ac\">2. Variáveis</a><button class=\"dropdown-btn\"> \n",
    "        <i class=\"fa fa-caret-down\"></i>\n",
    "    </button>\n",
    "    <div class=\"dropdown-container\">\n",
    "        <a href=\"Variaveis.ipynb\" style=\"color:#82b9fc\">2.1 Booleanos</a>\n",
    "        <a href=\"Numeros.ipynb\" style=\"color:#82b9fc\">2.2 Números</a>\n",
    "        <a href=\"Strings.ipynb\" style=\"color:#82b9fc\">2.3 Strings</a>\n",
    "    </div>\n",
    "    <a href=\"teste1.ipynb\">Teste 1</a>\n",
    "    <a href=\"#\"  style=\"color:#6ff0ac\">3. Coleções</a><button class=\"dropdown-btn\">\n",
    "        <i class=\"fa fa-caret-down\"></i>\n",
    "    </button>\n",
    "    <div class=\"dropdown-container\">\n",
    "        <a href=\"Colecoes.ipynb\" style=\"color:#82b9fc\">3.1. Listas</a>\n",
    "        <a href=\"Tuplos.ipynb\" style=\"color:#82b9fc\">3.2. Tuplos</a>\n",
    "        <a href=\"Conjuntos.ipynb\" style=\"color:#82b9fc\">3.3. Conjuntos</a>\n",
    "        <a href=\"Dicionarios.ipynb\" style=\"color:#82b9fc\">3.4. Dicionários</a>\n",
    "    </div>\n",
    "    <a href=\"Operadores.ipynb\"  style=\"color:#6ff0ac\">4. Operadores</a>\n",
    "    <a href=\"teste2.ipynb\">Teste 2</a>\n",
    "   <a href=\"Fluxo.ipynb\"  style=\"color:#6ff0ac\"> 5. Controlo de Fluxo</a>\n",
    "   <a href=\"Funcoes.ipynb\"  style=\"color:#6ff0ac\"> 6. Funções</a>\n",
    "    <a href=\"teste3.ipynb\">Teste 3</a>\n",
    "   <a href=\"ClassObjetos.ipynb\"  style=\"color:#6ff0ac\"> 7. Classes/Objetos</a>\n",
    "   <a href=\"Herancas.ipynb\"  style=\"color:#6ff0ac\"> 8. Heranças</a>\n",
    "    <a href=\"teste4.ipynb\">Teste 4</a>\n",
    "\n",
    "  </div>\n",
    "</div>  \n",
    "\n",
    "<script>\n",
    "/* Loop through all dropdown buttons to toggle between hiding and showing its dropdown content - This allows the user to have multiple dropdowns without any conflict */\n",
    "var dropdown = document.getElementsByClassName(\"dropdown-btn\");\n",
    "var i;\n",
    "\n",
    "for (i = 0; i < dropdown.length; i++) {\n",
    "  dropdown[i].addEventListener(\"click\", function() {\n",
    "  this.classList.toggle(\"active\");\n",
    "  var dropdownContent = this.nextElementSibling;\n",
    "  if (dropdownContent.style.display === \"block\") {\n",
    "  dropdownContent.style.display = \"none\";\n",
    "  } else {\n",
    "  dropdownContent.style.display = \"block\";\n",
    "  }\n",
    "  });\n",
    "}\n",
    "\n",
    "code_show=true; \n",
    "function code_toggle() {\n",
    "    if (code_show){\n",
    "        $('div.cell.code_cell.rendered.selected div.input').hide();\n",
    "    } else {\n",
    "        $('div.cell.code_cell.rendered.selected div.input').show();\n",
    "    }\n",
    "    code_show = !code_show\n",
    "} \n",
    "\n",
    "$(document).ready(code_toggle);\n",
    "</script>\n",
    "<div class=\"footer\">\n",
    "  <p>Para ocultar/mostrar o código, clique <a href=\"javascript:code_toggle()\">aqui</a>.</p>\n",
    "</div>\n",
    "</body>\n",
    "\n",
    "</html>''')\n",
    "\n",
    "\n"
   ]
  },
  {
   "cell_type": "code",
   "execution_count": null,
   "metadata": {},
   "outputs": [],
   "source": []
  }
 ],
 "metadata": {
  "kernelspec": {
   "display_name": "Python 3",
   "language": "python",
   "name": "python3"
  },
  "language_info": {
   "codemirror_mode": {
    "name": "ipython",
    "version": 3
   },
   "file_extension": ".py",
   "mimetype": "text/x-python",
   "name": "python",
   "nbconvert_exporter": "python",
   "pygments_lexer": "ipython3",
   "version": "3.7.3"
  },
  "widgets": {
   "application/vnd.jupyter.widget-state+json": {
    "state": {},
    "version_major": 2,
    "version_minor": 0
   }
  }
 },
 "nbformat": 4,
 "nbformat_minor": 2
}
