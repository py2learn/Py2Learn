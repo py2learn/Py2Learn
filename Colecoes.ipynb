{
 "cells": [
  {
   "cell_type": "markdown",
   "metadata": {},
   "source": [
    "<h1>Coleções em Python</h1>\n"
   ]
  },
  {
   "cell_type": "markdown",
   "metadata": {},
   "source": [
    "As coleções servem para agrupar vários dados do mesmo ou diferente tipo, elas possuem nome (como as variáveis) e dimensão. \n",
    "Em Python existem 4 tipos de coleções que são:\n",
    "\n",
    "<ol>\n",
    "    <li><a href=\"#C1\">Listas</a></li>\n",
    "    <li><a href=\"#C2\">Tuplos</a></li>\n",
    "    <li><a href=\"#C3\">Conjuntos</a></li>\n",
    "    <li><a href=\"#C4\">Dicionários</a></li>\n",
    "</ol>\n",
    "\n",
    "Antes de especificarmos mais sobre cada um dos tipos de coleções, vamos falar de forma geral quais os métodos que em geral todos os tipos de coleções utilizam, que são:\n",
    "\n",
    "ciclo <mark>for</mark> - quando se pretende percorrer todos os items de uma coleção;\n",
    "<mark>len</mark>(colecao) - para obter o tamanho/número de items das coleções;\n"
   ]
  },
  {
   "cell_type": "markdown",
   "metadata": {},
   "source": [
    "<h2 id=\"C1\">1. Lista (list)</h2>\n",
    "\n",
    "É um tipo de coleção que pode ser editável, os dados podem ser acessados através de índices, visto que a ordem é importante.\n",
    "Obs: Os índices começam em 0 e vão até n-1, sendo n o número de elementos da lista.\n",
    "\n",
    "As listas em Python são escritas com parênteses retos(\"[]\")\n",
    "\n",
    "<h4>Exemplo 1.</h4>"
   ]
  },
  {
   "cell_type": "code",
   "execution_count": 2,
   "metadata": {},
   "outputs": [
    {
     "name": "stdout",
     "output_type": "stream",
     "text": [
      "['banana']\n"
     ]
    }
   ],
   "source": [
    "myList = [\"a\",\"banana\", 6.9, 1, 3]\n",
    "print(myList[1:2])"
   ]
  },
  {
   "cell_type": "markdown",
   "metadata": {},
   "source": [
    "<b>Resultado:</b> \n",
    "<p>banana</p>\n",
    "\n",
    "<h3>Formas de acessar as listas:</h3>\n",
    "\n",
    "<ol  style=\"list-style-type: decimal;\">\n",
    "    <li>\n",
    "        <ol  style=\"list-style-type: decimal;\">\n",
    "            <li><a href=\"#C5\">Índices Negativos</a></li>\n",
    "            <li><a href=\"#C6\">Limites de Índices</a></li>\n",
    "            <li><a href=\"#C8\">Alterar Valor</a></li>\n",
    "            <li><a href=\"#C9\">Adicionar Items</a></li>\n",
    "            <li><a href=\"#C10\">Remover Items</a></li>\n",
    "            <li><a href=\"#C11\">Juntar Listas</a></li>\n",
    "            <li><a href=\"#C12\">Copiar Lista</a></li>\n",
    "            <li><a href=\"#C13\">Criar uma Lista através do Construtor</a></li>\n",
    "        </ol>\n",
    "    </li>\n",
    "</ol>\n",
    "\n",
    "\n",
    "<h3 id=\"#C5\">1.1 - Índices Negativos</h3>\n",
    "\n",
    "Os índices negativos permitem aceder aos elementos de uma lista iniciados pelo fim.\n",
    "\n",
    "<h4>Exemplo 1.1.:</h4>"
   ]
  },
  {
   "cell_type": "code",
   "execution_count": 43,
   "metadata": {},
   "outputs": [
    {
     "name": "stdout",
     "output_type": "stream",
     "text": [
      "3\n"
     ]
    }
   ],
   "source": [
    "print(myList[-1])"
   ]
  },
  {
   "cell_type": "markdown",
   "metadata": {},
   "source": [
    "<b>Resultado:</b>\n",
    "<p>3</p>\n",
    "\n",
    "<b>Obs:</b> Visto que o último elemento da lista é <b>3</b>, utilizando \"-1\" obtemos o último elemento da lista, caso utilizássemos \"-2\", teríamos o penúltimo elemento e assim por em diante.\n",
    "\n",
    "\n",
    "<h3 id =#C6>1.2 - Limites de Índices</h3>\n",
    "\n",
    "Nós podemos aceder a uma parte dos elementos da nossa lista colocando os limites da seguinte forma:\n",
    "\n",
    "   <p style=\"font-family:consolas;\">mylistA[i:f]</p>\n",
    "<p>\"i\" é o índice do primeiro item e \"f\" é o índice do último item da lista que queremos selecionar, ou seja, na lista queremos selecionar os elementos entre o índice \"i\" e o \"f\" inclusive.</p>\n",
    "\n",
    "\n",
    "<h4>Exemplo 1.2.:</h4>\n"
   ]
  },
  {
   "cell_type": "code",
   "execution_count": 44,
   "metadata": {},
   "outputs": [
    {
     "name": "stdout",
     "output_type": "stream",
     "text": [
      "['banana', 6.9, 1]\n"
     ]
    }
   ],
   "source": [
    "print(myList[1:4])"
   ]
  },
  {
   "cell_type": "markdown",
   "metadata": {},
   "source": [
    "<b>Resultado:</b>\n",
    "\n",
    "\n",
    "<p style=\"font-family:consolas\">['banana', 6.9, 1]</p>\n",
    "\n",
    "<b>Obs: </b>Os limites dos índices também podem ser negativos, considerando que queremos selecionar os elementos contados apartir do fim.\n",
    "\n",
    "\n",
    "<h4>Exemplo 1.2.1.:</h4>"
   ]
  },
  {
   "cell_type": "code",
   "execution_count": 45,
   "metadata": {},
   "outputs": [
    {
     "name": "stdout",
     "output_type": "stream",
     "text": [
      "[6.9, 1]\n"
     ]
    }
   ],
   "source": [
    "print(myList[-3:-1])"
   ]
  },
  {
   "cell_type": "markdown",
   "metadata": {},
   "source": [
    "<b>Resultado:</b>\n",
    "\n",
    "\n",
    "<p style=\"font-family:consolas\">[6.9, 1]</p>\n",
    "\n",
    "<h3 id =#C7>1.3 - Alterar Valores</h3>\n",
    "\n",
    "Para alterar os valores da lista, introduzimos o índice do item em questão e igualamo-lo ao seu novo valor.\n",
    "\n",
    "<h4>Exemplo 1.3.:</h4>"
   ]
  },
  {
   "cell_type": "code",
   "execution_count": 46,
   "metadata": {},
   "outputs": [
    {
     "name": "stdout",
     "output_type": "stream",
     "text": [
      "['Albert', 'banana', 6.9, 1, 3]\n"
     ]
    }
   ],
   "source": [
    "myList[0] = \"Albert\" #alterar o valor do 1ºitem (índice 0) para \"Albert\"\n",
    "print(myList)"
   ]
  },
  {
   "cell_type": "markdown",
   "metadata": {},
   "source": [
    "<b>Resultado:</b>\n",
    "\n",
    "\n",
    "<p style=\"font-family:consolas\">['Albert', 'banana', 6.9, 1, 3]</p>\n",
    "\n",
    "<h3 id =#C8>1.4 - Adicionar Items</h3>\n",
    "\n",
    "Para adicionar items à lista, utilizamos o método <mark>append()</mark>, este método introduz o mesmo no fim da lista, mas caso se pretender inserir num indice específico, utiliza-se o método <mark>insert()</mark>.\n",
    "\n",
    "<h4>Exemplo 1.4.1. - <b>com append(valor)</b>:</h4>"
   ]
  },
  {
   "cell_type": "code",
   "execution_count": 47,
   "metadata": {},
   "outputs": [
    {
     "name": "stdout",
     "output_type": "stream",
     "text": [
      "['Albert', 'banana', 6.9, 1, 3, 'black']\n"
     ]
    }
   ],
   "source": [
    "myList.append(\"black\")\n",
    "print(myList)"
   ]
  },
  {
   "cell_type": "markdown",
   "metadata": {},
   "source": [
    "<b>Resultado:</b>\n",
    "\n",
    "<p style=\"font-family:consolas\">['Albert', 'banana', 6.9, 1, 3, 'black']</p>\n",
    "\n",
    "\n",
    "<h4>Exemplo 1.4.2. - <b>com insert(indice, valor)</b>:</h4>"
   ]
  },
  {
   "cell_type": "code",
   "execution_count": 4,
   "metadata": {},
   "outputs": [
    {
     "name": "stdout",
     "output_type": "stream",
     "text": [
      "['a', 'banana', 6.9, 'o.0', 1, 3]\n"
     ]
    }
   ],
   "source": [
    "myList.insert(3, \"o.0\")\n",
    "print(myList)"
   ]
  },
  {
   "cell_type": "markdown",
   "metadata": {},
   "source": [
    "<b>Resultado:</b>\n",
    "\n",
    "<p style=\"font-family:consolas\">['Albert', 'banana', 6.9, 'o.0', 1, 3, 'black']</p>\n",
    "\n",
    "<h3 id =#C9>1.5 - Remover Items</h3>\n",
    "\n",
    "Para remover items da lista, utilizamos o método <mark>nomeLista.remove(valor)</mark>, este método remove o item com o determinado nome dado, caso se pretenda remover num indice específico, utiliza-se o método <mark>nomeLista.pop(indice)</mark> (se não colocar o índice remove o último elemento) ou a palavra-chave <mark>del nomeLista[indice]</mark>, caso o que se pretender for apagar todos os elementos da lista, utiliza-se o <mark>del + nomeLista</mark> .\n",
    "\n",
    "<h4>Exemplo 1.4.1. - <b>com append(valor)</b>:</h4>"
   ]
  },
  {
   "cell_type": "code",
   "execution_count": 49,
   "metadata": {},
   "outputs": [
    {
     "name": "stdout",
     "output_type": "stream",
     "text": [
      "['Albert', 'banana', 'o.0', 3]\n"
     ]
    }
   ],
   "source": [
    "myList = ['Albert', 'banana', 6.9, 'o.0', 1, 3, 'black']\n",
    "myList.remove(\"black\")\n",
    "\n",
    "myList.pop(-2)\n",
    "\n",
    "del myList[2] #\n",
    "\n",
    "#myList.clear  #Fica comentado para não esvaziar a lista\n",
    "\n",
    "print(myList)"
   ]
  },
  {
   "cell_type": "markdown",
   "metadata": {},
   "source": [
    "<b>Resultado:</b>\n",
    "\n",
    "<p style=\"font-family:consolas\">['Albert', 'banana', 'o.0', 3]</p>\n",
    "\n",
    "<h3 id =#C9>1.5 - Juntar Listas</h3>\n",
    "\n",
    "Para juntar duas listas podemos fazer <mark>nomeLista1 + nomeLista2</mark> ou usar o método <mark>extend()</mark> -> <mark>nomeLista1.extend(nomeLista2)</mark>.\n",
    "\n",
    "<h4>Exemplo 1.5.1. - <b>com \"+\"</b>:</h4>"
   ]
  },
  {
   "cell_type": "code",
   "execution_count": 50,
   "metadata": {},
   "outputs": [
    {
     "name": "stdout",
     "output_type": "stream",
     "text": [
      "['Albert', 'banana', 'o.0', 3, 'B', 'c', 1994]\n"
     ]
    }
   ],
   "source": [
    "myList2 = [\"B\",\"c\", 1994]\n",
    "\n",
    "print(myList+myList2)"
   ]
  },
  {
   "cell_type": "markdown",
   "metadata": {},
   "source": [
    "<b>Resultado:</b>\n",
    "\n",
    "<p style=\"font-family:consolas\">['Albert', 'banana', 'o.0', 3, 'B', 'c', 1994]</p>\n",
    "\n",
    "\n",
    "<h4>Exemplo 1.5.2. - <b>com extend()</b>:</h4>"
   ]
  },
  {
   "cell_type": "code",
   "execution_count": 51,
   "metadata": {},
   "outputs": [
    {
     "name": "stdout",
     "output_type": "stream",
     "text": [
      "['Albert', 'banana', 'o.0', 3, 'B', 'c', 1994]\n"
     ]
    }
   ],
   "source": [
    "myList.extend(myList2)\n",
    "\n",
    "print(myList)"
   ]
  },
  {
   "cell_type": "markdown",
   "metadata": {},
   "source": [
    "<b>Resultado:</b>\n",
    "\n",
    "<p style=\"font-family:consolas\">['Albert', 'banana', 'o.0', 3, 'B', 'c', 1994]</p>\n",
    "\n",
    "\n",
    "<h3 id =#C9>1.6 - Copiar lista</h3>\n",
    "\n",
    "Para criar cópias de uma lista, utiliza-se o método <mark>copy()</mark> ou o método <mark>list(nomeLista)</mark>.\n",
    "\n",
    "<h4>Exemplo 1.6.1 - <b>com \"copy()\"</b>:</h4>"
   ]
  },
  {
   "cell_type": "code",
   "execution_count": 52,
   "metadata": {},
   "outputs": [
    {
     "name": "stdout",
     "output_type": "stream",
     "text": [
      "['Albert', 'banana', 'o.0', 3, 'B', 'c', 1994]\n"
     ]
    }
   ],
   "source": [
    "novaList = myList.copy()\n",
    "print(novaList)"
   ]
  },
  {
   "cell_type": "markdown",
   "metadata": {},
   "source": [
    "<b>Resultado:</b>\n",
    "\n",
    "<p style=\"font-family:consolas\">['Albert', 'banana', 'o.0', 3, 'B', 'c', 1994]</p>\n",
    "\n",
    "\n",
    "<h4>Exemplo 1.6. - <b>com \"list(nomeLista)\"</b>:</h4>"
   ]
  },
  {
   "cell_type": "code",
   "execution_count": 53,
   "metadata": {},
   "outputs": [
    {
     "name": "stdout",
     "output_type": "stream",
     "text": [
      "['Albert', 'banana', 'o.0', 3, 'B', 'c', 1994]\n"
     ]
    }
   ],
   "source": [
    "novaList2 = list(myList)\n",
    "print(novaList2)"
   ]
  },
  {
   "cell_type": "markdown",
   "metadata": {},
   "source": [
    "<b>Resultado:</b>\n",
    "\n",
    "<p style=\"font-family:consolas\">['Albert', 'banana', 'o.0', 3, 'B', 'c', 1994]</p>\n",
    "\n",
    "\n",
    "<h3 id =#C9>1.7 - Criar uma Lista através do Construtor</h3>\n",
    "\n",
    "Para criar uma lista através do <b>construtor</b> , utilizamos o método <mark>list()</mark>.\n",
    "\n",
    "<h4>Exemplo 1.7.:</h4>"
   ]
  },
  {
   "cell_type": "code",
   "execution_count": 54,
   "metadata": {},
   "outputs": [
    {
     "name": "stdout",
     "output_type": "stream",
     "text": [
      "['m&m', 'mars', 'kitkat', 'snikers']\n"
     ]
    }
   ],
   "source": [
    "chocolateList = list((\"m&m\",\"mars\",\"kitkat\",\"snikers\"))\n",
    "print(chocolateList)"
   ]
  },
  {
   "cell_type": "markdown",
   "metadata": {},
   "source": [
    "<b>Resultado:</b>\n",
    "\n",
    "<p style=\"font-family:consolas\">['m&m', 'mars', 'kitkat', 'snikers']</p>\n",
    "\n"
   ]
  },
  {
   "cell_type": "code",
   "execution_count": null,
   "metadata": {},
   "outputs": [],
   "source": []
  },
  {
   "cell_type": "code",
   "execution_count": 5,
   "metadata": {},
   "outputs": [
    {
     "data": {
      "text/html": [
       "\n",
       "<html>\n",
       "<head>\n",
       "<style>\n",
       "\n",
       "\n",
       "/* Fixed sidenav, full height */\n",
       ".sidenav {\n",
       "  height: 100%;\n",
       "  width: 200px;\n",
       "  position: fixed;\n",
       "  z-index: 1;\n",
       "  top: 0;\n",
       "  left: 0;\n",
       "  background-color: #111;\n",
       "  overflow-x: hidden;\n",
       "  padding-top: 200px;\n",
       "}\n",
       "\n",
       "/* Style the sidenav links and the dropdown button */\n",
       ".sidenav a, .dropdown-btn {\n",
       "  padding: 6px 8px 6px 16px;\n",
       "  text-decoration: none;\n",
       "  font-size: 20px;\n",
       "  color: #818181;\n",
       "  display: block;\n",
       "  border: none;\n",
       "  background: none;\n",
       "  width: 100%;\n",
       "  text-align: left;\n",
       "  cursor: pointer;\n",
       "  outline: none;\n",
       "}\n",
       "\n",
       "/* On mouse-over */\n",
       ".sidenav a:hover, .dropdown-btn:hover {\n",
       "  color: #f1f1f1;\n",
       "}\n",
       "\n",
       "/* Add an active class to the active dropdown button */\n",
       "\n",
       "\n",
       ".footer {\n",
       "  padding: 20px;\n",
       "  text-align: center;\n",
       "  background: #ddd;\n",
       "}\n",
       "\n",
       "/* Dropdown container (hidden by default). Optional: add a lighter background color and some left padding to change the design of the dropdown content */\n",
       ".dropdown-container {\n",
       "  display: none;\n",
       "  background-color: #262626;\n",
       "  padding-left: 8px;\n",
       "}\n",
       "\n",
       "/* Optional: Style the caret down icon */\n",
       ".fa-caret-down {\n",
       "  float: right;\n",
       "  padding-right: 8px;\n",
       "}\n",
       "\n",
       "/* Some media queries for responsiveness */\n",
       "@media screen and (max-height: 450px) {\n",
       "  .sidenav {padding-top: 15px;}\n",
       "  .sidenav a {font-size: 18px;}\n",
       "}\n",
       "</style>\n",
       "</head>\n",
       "<body>\n",
       "\n",
       "<div class=\"sidenav\">\n",
       "  <a href=\"#about\" style=\"color:red;\">Página Inicial</a>\n",
       "  <a href=\"Introduction.ipynb\" style=\"color:orange;\">Introdução</a>\n",
       "  <button class=\"dropdown-btn\">\n",
       "  <a style=\"color:#f7e168;\">Módulos</a> \n",
       "    <i class=\"fa fa-caret-down\"></i>\n",
       "  </button>\n",
       "  <div class=\"dropdown-container\">\n",
       "    <a href=\"#\"  style=\"color:#6ff0ac\">1. Sintaxe</a>\n",
       "    <a href=\"#\" style=\"color:#6ff0ac\">2. Variáveis</a><button class=\"dropdown-btn\"> \n",
       "        <i class=\"fa fa-caret-down\"></i>\n",
       "    </button>\n",
       "    <div class=\"dropdown-container\">\n",
       "        <a href=\"#\" style=\"color:#82b9fc\">2.1 Números</a>\n",
       "        <a href=\"#\" style=\"color:#82b9fc\">2.2 Strings</a>\n",
       "        <a href=\"#\" style=\"color:#82b9fc\">2.3 Booleanos</a>\n",
       "    </div>\n",
       "    <a href=\"#\"  style=\"color:#6ff0ac\">3. Coleções</a><button class=\"dropdown-btn\">\n",
       "        <i class=\"fa fa-caret-down\"></i>\n",
       "    </button>\n",
       "    <div class=\"dropdown-container\">\n",
       "        <a href=\"#\" style=\"color:#82b9fc\">3.1. Tuplos</a>\n",
       "        <a href=\"#\" style=\"color:#82b9fc\">3.2. Conjuntos</a>\n",
       "        <a href=\"#\" style=\"color:#82b9fc\">3.3. Dicionários</a>\n",
       "    </div>\n",
       "    <a href=\"#\"  style=\"color:#6ff0ac\">4. Operadores</a>\n",
       "   <a href=\"#\"  style=\"color:#6ff0ac\"> 5. Controlo de Fluxo</a>\n",
       "   <a href=\"#\"  style=\"color:#6ff0ac\"> 6. Funções</a>\n",
       "   <a href=\"#\"  style=\"color:#6ff0ac\"> 7. Classes/Objetos</a>\n",
       "   <a href=\"#\"  style=\"color:#6ff0ac\"> 8. Heranças</a>\n",
       "  </div>\n",
       "</div>  \n",
       "\n",
       "<script>\n",
       "/* Loop through all dropdown buttons to toggle between hiding and showing its dropdown content - This allows the user to have multiple dropdowns without any conflict */\n",
       "var dropdown = document.getElementsByClassName(\"dropdown-btn\");\n",
       "var i;\n",
       "\n",
       "for (i = 0; i < dropdown.length; i++) {\n",
       "  dropdown[i].addEventListener(\"click\", function() {\n",
       "  this.classList.toggle(\"active\");\n",
       "  var dropdownContent = this.nextElementSibling;\n",
       "  if (dropdownContent.style.display === \"block\") {\n",
       "  dropdownContent.style.display = \"none\";\n",
       "  } else {\n",
       "  dropdownContent.style.display = \"block\";\n",
       "  }\n",
       "  });\n",
       "}\n",
       "\n",
       "code_show=true; \n",
       "function code_toggle() {\n",
       "    if (code_show){\n",
       "        $('div.cell.code_cell.rendered.selected div.input').hide();\n",
       "    } else {\n",
       "        $('div.cell.code_cell.rendered.selected div.input').show();\n",
       "    }\n",
       "    code_show = !code_show\n",
       "} \n",
       "\n",
       "$(document).ready(code_toggle);\n",
       "</script>\n",
       "<div class=\"footer\">\n",
       "  <p>Para ocultar/mostrar o código, clique <a href=\"javascript:code_toggle()\">aqui</a>.</p>\n",
       "</div>\n",
       "</body>\n",
       "\n",
       "</html>"
      ],
      "text/plain": [
       "<IPython.core.display.HTML object>"
      ]
     },
     "execution_count": 5,
     "metadata": {},
     "output_type": "execute_result"
    }
   ],
   "source": [
    "from IPython.core.display import display, HTML\n",
    "\n",
    "\n",
    "HTML('''\n",
    "<html>\n",
    "<head>\n",
    "<style>\n",
    "\n",
    "\n",
    "/* Fixed sidenav, full height */\n",
    ".sidenav {\n",
    "  height: 100%;\n",
    "  width: 200px;\n",
    "  position: fixed;\n",
    "  z-index: 1;\n",
    "  top: 0;\n",
    "  left: 0;\n",
    "  background-color: #111;\n",
    "  overflow-x: hidden;\n",
    "  padding-top: 200px;\n",
    "}\n",
    "\n",
    "/* Style the sidenav links and the dropdown button */\n",
    ".sidenav a, .dropdown-btn {\n",
    "  padding: 6px 8px 6px 16px;\n",
    "  text-decoration: none;\n",
    "  font-size: 20px;\n",
    "  color: #818181;\n",
    "  display: block;\n",
    "  border: none;\n",
    "  background: none;\n",
    "  width: 100%;\n",
    "  text-align: left;\n",
    "  cursor: pointer;\n",
    "  outline: none;\n",
    "}\n",
    "\n",
    "/* On mouse-over */\n",
    ".sidenav a:hover, .dropdown-btn:hover {\n",
    "  color: #f1f1f1;\n",
    "}\n",
    "\n",
    "/* Add an active class to the active dropdown button */\n",
    "\n",
    "\n",
    ".footer {\n",
    "  padding: 20px;\n",
    "  text-align: center;\n",
    "  background: #ddd;\n",
    "}\n",
    "\n",
    "/* Dropdown container (hidden by default). Optional: add a lighter background color and some left padding to change the design of the dropdown content */\n",
    ".dropdown-container {\n",
    "  display: none;\n",
    "  background-color: #262626;\n",
    "  padding-left: 8px;\n",
    "}\n",
    "\n",
    "/* Optional: Style the caret down icon */\n",
    ".fa-caret-down {\n",
    "  float: right;\n",
    "  padding-right: 8px;\n",
    "}\n",
    "\n",
    "/* Some media queries for responsiveness */\n",
    "@media screen and (max-height: 450px) {\n",
    "  .sidenav {padding-top: 15px;}\n",
    "  .sidenav a {font-size: 18px;}\n",
    "}\n",
    "</style>\n",
    "</head>\n",
    "<body>\n",
    "\n",
    "<div class=\"sidenav\">\n",
    "  <a href=\"#about\" style=\"color:red;\">Página Inicial</a>\n",
    "  <a href=\"Introduction.ipynb\" style=\"color:orange;\">Introdução</a>\n",
    "  <button class=\"dropdown-btn\">\n",
    "  <a style=\"color:#f7e168;\">Módulos</a> \n",
    "    <i class=\"fa fa-caret-down\"></i>\n",
    "  </button>\n",
    "  <div class=\"dropdown-container\">\n",
    "    <a href=\"Sintaxe.ipynb\"  style=\"color:#6ff0ac\">1. Sintaxe</a>\n",
    "    <a href=\"#\" style=\"color:#6ff0ac\">2. Variáveis</a><button class=\"dropdown-btn\"> \n",
    "        <i class=\"fa fa-caret-down\"></i>\n",
    "    </button>\n",
    "    <div class=\"dropdown-container\">\n",
    "        <a href=\"Variaveis.ipynb\" style=\"color:#82b9fc\">2.1 Booleanos</a>\n",
    "        <a href=\"Numeros.ipynb\" style=\"color:#82b9fc\">2.2 Números</a>\n",
    "        <a href=\"Strings.ipynb\" style=\"color:#82b9fc\">2.3 Strings</a>\n",
    "    </div>\n",
    "    <a href=\"teste1.ipynb\">Teste 1</a>\n",
    "    <a href=\"#\"  style=\"color:#6ff0ac\">3. Coleções</a><button class=\"dropdown-btn\">\n",
    "        <i class=\"fa fa-caret-down\"></i>\n",
    "    </button>\n",
    "    <div class=\"dropdown-container\">\n",
    "        <a href=\"Colecoes.ipynb\" style=\"color:#82b9fc\">3.1. Listas</a>\n",
    "        <a href=\"Tuplos.ipynb\" style=\"color:#82b9fc\">3.2. Tuplos</a>\n",
    "        <a href=\"Conjuntos.ipynb\" style=\"color:#82b9fc\">3.3. Conjuntos</a>\n",
    "        <a href=\"Dicionarios.ipynb\" style=\"color:#82b9fc\">3.4. Dicionários</a>\n",
    "    </div>\n",
    "    <a href=\"Operadores.ipynb\"  style=\"color:#6ff0ac\">4. Operadores</a>\n",
    "    <a href=\"teste2.ipynb\">Teste 2</a>\n",
    "   <a href=\"Fluxo.ipynb\"  style=\"color:#6ff0ac\"> 5. Controlo de Fluxo</a>\n",
    "   <a href=\"Funcoes.ipynb\"  style=\"color:#6ff0ac\"> 6. Funções</a>\n",
    "    <a href=\"teste3.ipynb\">Teste 3</a>\n",
    "   <a href=\"ClassObjetos.ipynb\"  style=\"color:#6ff0ac\"> 7. Classes/Objetos</a>\n",
    "   <a href=\"Herancas.ipynb\"  style=\"color:#6ff0ac\"> 8. Heranças</a>\n",
    "    <a href=\"teste4.ipynb\">Teste 4</a>\n",
    "\n",
    "  </div>\n",
    "</div>   \n",
    "\n",
    "<script>\n",
    "/* Loop through all dropdown buttons to toggle between hiding and showing its dropdown content - This allows the user to have multiple dropdowns without any conflict */\n",
    "var dropdown = document.getElementsByClassName(\"dropdown-btn\");\n",
    "var i;\n",
    "\n",
    "for (i = 0; i < dropdown.length; i++) {\n",
    "  dropdown[i].addEventListener(\"click\", function() {\n",
    "  this.classList.toggle(\"active\");\n",
    "  var dropdownContent = this.nextElementSibling;\n",
    "  if (dropdownContent.style.display === \"block\") {\n",
    "  dropdownContent.style.display = \"none\";\n",
    "  } else {\n",
    "  dropdownContent.style.display = \"block\";\n",
    "  }\n",
    "  });\n",
    "}\n",
    "\n",
    "code_show=true; \n",
    "function code_toggle() {\n",
    "    if (code_show){\n",
    "        $('div.cell.code_cell.rendered.selected div.input').hide();\n",
    "    } else {\n",
    "        $('div.cell.code_cell.rendered.selected div.input').show();\n",
    "    }\n",
    "    code_show = !code_show\n",
    "} \n",
    "\n",
    "$(document).ready(code_toggle);\n",
    "</script>\n",
    "<div class=\"footer\">\n",
    "  <p>Para ocultar/mostrar o código, clique <a href=\"javascript:code_toggle()\">aqui</a>.</p>\n",
    "</div>\n",
    "</body>\n",
    "\n",
    "</html>''')\n"
   ]
  },
  {
   "cell_type": "code",
   "execution_count": null,
   "metadata": {},
   "outputs": [],
   "source": []
  }
 ],
 "metadata": {
  "kernelspec": {
   "display_name": "Python 3",
   "language": "python",
   "name": "python3"
  },
  "language_info": {
   "codemirror_mode": {
    "name": "ipython",
    "version": 3
   },
   "file_extension": ".py",
   "mimetype": "text/x-python",
   "name": "python",
   "nbconvert_exporter": "python",
   "pygments_lexer": "ipython3",
   "version": "3.7.3"
  }
 },
 "nbformat": 4,
 "nbformat_minor": 2
}
